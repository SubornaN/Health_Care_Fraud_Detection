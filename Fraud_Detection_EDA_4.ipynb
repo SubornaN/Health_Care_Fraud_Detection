{
 "cells": [
  {
   "cell_type": "markdown",
   "metadata": {},
   "source": [
    "## Importing Necessary Libraries"
   ]
  },
  {
   "cell_type": "code",
   "execution_count": 110,
   "metadata": {},
   "outputs": [],
   "source": [
    "# These libraries will be used for EDA and data manipulation\n",
    "import numpy as np\n",
    "import pandas as pd\n",
    "import seaborn as sns\n",
    "import matplotlib.pyplot as plt\n",
    "from pylab import rcParams\n",
    "\n",
    "# These libraries will be used for machine learning models\n",
    "from sklearn.model_selection import train_test_split, GridSearchCV\n",
    "from sklearn.linear_model import LogisticRegression\n",
    "from sklearn.ensemble import GradientBoostingClassifier, RandomForestClassifier\n",
    "from sklearn import preprocessing\n",
    "from sklearn.svm import SVC\n",
    "from sklearn.metrics import classification_report, confusion_matrix, accuracy_score"
   ]
  },
  {
   "cell_type": "markdown",
   "metadata": {},
   "source": [
    "## Importing csv with engineered features and merging them "
   ]
  },
  {
   "cell_type": "code",
   "execution_count": 111,
   "metadata": {},
   "outputs": [],
   "source": [
    "pd.set_option('display.max_columns', 100) # shows all the columns\n",
    "\n",
    "# loading all the datasets\n",
    "features_1 = pd.read_csv('/Users/suborna/Github/Capstone_Project/Data/Final_Provider1.csv') # Anthony\n",
    "features_2 = pd.read_csv('/Users/suborna/Github/Capstone_Project/Data/Final_Provider2.csv') # Suborna\n",
    "\n",
    "# merging features_1 & features_2 to have the complete dataset of new features\n",
    "All_Features = features_1.merge(features_2, on = 'Provider')\n",
    "\n",
    "# setting provider as index for ML modeling\n",
    "Train_set = features_1.merge(features_2, on = 'Provider').set_index('Provider')\n",
    "\n",
    "# replacing categories with ordinal data for the Potential Fraud labels\n",
    "Train_set['PotentialFraud'] = Train_set['PotentialFraud'].replace(['Yes', 'No'], [1,0])\n",
    "\n",
    "# seperating the dataset into 2 frames: fraud & not fraud\n",
    "## Potential Fraud dataset\n",
    "fraud_df = All_Features.loc[All_Features.PotentialFraud == 'Yes']\n",
    "Fraud_df = fraud_df.reset_index().rename(columns = {'index': 'Index'})\n",
    "\n",
    "## Not Potential Fraud Dataset\n",
    "nfraud_df = All_Features.loc[All_Features.PotentialFraud == 'No']\n",
    "NFraud_df = nfraud_df.reset_index().rename(columns = {'index': 'Index'})"
   ]
  },
  {
   "cell_type": "code",
   "execution_count": 112,
   "metadata": {},
   "outputs": [
    {
     "data": {
      "text/plain": [
       "0"
      ]
     },
     "execution_count": 112,
     "metadata": {},
     "output_type": "execute_result"
    }
   ],
   "source": [
    "Train_set.isnull().sum().sum()"
   ]
  },
  {
   "cell_type": "code",
   "execution_count": 113,
   "metadata": {
    "scrolled": true
   },
   "outputs": [
    {
     "data": {
      "text/plain": [
       "(5410, 60)"
      ]
     },
     "execution_count": 113,
     "metadata": {},
     "output_type": "execute_result"
    }
   ],
   "source": [
    "All_Features.shape # checking the count of rows and columns"
   ]
  },
  {
   "cell_type": "code",
   "execution_count": 114,
   "metadata": {},
   "outputs": [
    {
     "data": {
      "text/plain": [
       "0    0.91\n",
       "1    0.09\n",
       "Name: PotentialFraud, dtype: float64"
      ]
     },
     "execution_count": 114,
     "metadata": {},
     "output_type": "execute_result"
    }
   ],
   "source": [
    "# check the distribution of the potential fraud/Nfraud labels (0 means not potential fraud, 1 means potential fraud)\n",
    "np.round(Train_set.PotentialFraud.value_counts()/All_Features.shape[0], 2)"
   ]
  },
  {
   "cell_type": "code",
   "execution_count": 115,
   "metadata": {},
   "outputs": [
    {
     "data": {
      "text/html": [
       "<div>\n",
       "<style scoped>\n",
       "    .dataframe tbody tr th:only-of-type {\n",
       "        vertical-align: middle;\n",
       "    }\n",
       "\n",
       "    .dataframe tbody tr th {\n",
       "        vertical-align: top;\n",
       "    }\n",
       "\n",
       "    .dataframe thead th {\n",
       "        text-align: right;\n",
       "    }\n",
       "</style>\n",
       "<table border=\"1\" class=\"dataframe\">\n",
       "  <thead>\n",
       "    <tr style=\"text-align: right;\">\n",
       "      <th></th>\n",
       "      <th>Provider</th>\n",
       "      <th>CDC_4019</th>\n",
       "      <th>CDC_25000</th>\n",
       "      <th>CDC_2724</th>\n",
       "      <th>CDC_V5869</th>\n",
       "      <th>CDC_42731</th>\n",
       "      <th>CDC_4011</th>\n",
       "      <th>CDC_V5861</th>\n",
       "      <th>CDC_2449</th>\n",
       "      <th>CDC_2720</th>\n",
       "      <th>CDC_4280</th>\n",
       "      <th>DGC_882</th>\n",
       "      <th>DGC_884</th>\n",
       "      <th>DGC_166</th>\n",
       "      <th>DGC_183</th>\n",
       "      <th>DGC_939</th>\n",
       "      <th>DGC_883</th>\n",
       "      <th>DGC_168</th>\n",
       "      <th>DGC_887</th>\n",
       "      <th>DGC_204</th>\n",
       "      <th>DGC_867</th>\n",
       "      <th>CPC_4019.0</th>\n",
       "      <th>CPC_2724.0</th>\n",
       "      <th>CPC_9904.0</th>\n",
       "      <th>CPC_8154.0</th>\n",
       "      <th>CPC_66.0</th>\n",
       "      <th>CPC_3893.0</th>\n",
       "      <th>CPC_3995.0</th>\n",
       "      <th>CPC_4516.0</th>\n",
       "      <th>CPC_3722.0</th>\n",
       "      <th>CPC_8151.0</th>\n",
       "      <th>Male_Patient</th>\n",
       "      <th>Female_Patient</th>\n",
       "      <th>Age(26-40)</th>\n",
       "      <th>Age(41-60)</th>\n",
       "      <th>Age(61-80)</th>\n",
       "      <th>Age(81-100)</th>\n",
       "      <th>Race_White</th>\n",
       "      <th>Race_Black</th>\n",
       "      <th>Race_Hispanic</th>\n",
       "      <th>Race_Native</th>\n",
       "      <th>Hos_Stay_Total</th>\n",
       "      <th>Payment_Total</th>\n",
       "      <th>Claim_Len_Total</th>\n",
       "      <th>Alzheimer</th>\n",
       "      <th>Heartfailure</th>\n",
       "      <th>KidneyDisease</th>\n",
       "      <th>Cancer</th>\n",
       "      <th>ObstrPulmonary</th>\n",
       "      <th>Depression</th>\n",
       "      <th>Diabetes</th>\n",
       "      <th>IschemicHeart</th>\n",
       "      <th>Osteoporasis</th>\n",
       "      <th>rheumatoidarthritis</th>\n",
       "      <th>stroke</th>\n",
       "      <th>RenalDisease</th>\n",
       "      <th>State_Count</th>\n",
       "      <th>County_Count</th>\n",
       "      <th>DiagGroupCode</th>\n",
       "      <th>PotentialFraud</th>\n",
       "    </tr>\n",
       "  </thead>\n",
       "  <tbody>\n",
       "    <tr>\n",
       "      <th>862</th>\n",
       "      <td>PRV52075</td>\n",
       "      <td>0</td>\n",
       "      <td>0</td>\n",
       "      <td>0</td>\n",
       "      <td>0</td>\n",
       "      <td>1</td>\n",
       "      <td>0</td>\n",
       "      <td>0</td>\n",
       "      <td>0</td>\n",
       "      <td>0</td>\n",
       "      <td>0</td>\n",
       "      <td>0</td>\n",
       "      <td>0</td>\n",
       "      <td>0</td>\n",
       "      <td>0</td>\n",
       "      <td>0</td>\n",
       "      <td>0</td>\n",
       "      <td>0</td>\n",
       "      <td>0</td>\n",
       "      <td>0</td>\n",
       "      <td>0</td>\n",
       "      <td>0</td>\n",
       "      <td>0</td>\n",
       "      <td>0</td>\n",
       "      <td>0</td>\n",
       "      <td>0</td>\n",
       "      <td>0</td>\n",
       "      <td>0</td>\n",
       "      <td>0</td>\n",
       "      <td>0</td>\n",
       "      <td>0</td>\n",
       "      <td>2.0</td>\n",
       "      <td>3.0</td>\n",
       "      <td>0.0</td>\n",
       "      <td>2.0</td>\n",
       "      <td>2.0</td>\n",
       "      <td>1.0</td>\n",
       "      <td>2.0</td>\n",
       "      <td>1.0</td>\n",
       "      <td>0.0</td>\n",
       "      <td>2.0</td>\n",
       "      <td>0.0</td>\n",
       "      <td>1220.0</td>\n",
       "      <td>20</td>\n",
       "      <td>1</td>\n",
       "      <td>2</td>\n",
       "      <td>1</td>\n",
       "      <td>1</td>\n",
       "      <td>1</td>\n",
       "      <td>1</td>\n",
       "      <td>2</td>\n",
       "      <td>5</td>\n",
       "      <td>1</td>\n",
       "      <td>1</td>\n",
       "      <td>0</td>\n",
       "      <td>0</td>\n",
       "      <td>1</td>\n",
       "      <td>1</td>\n",
       "      <td>0.0</td>\n",
       "      <td>No</td>\n",
       "    </tr>\n",
       "    <tr>\n",
       "      <th>386</th>\n",
       "      <td>PRV51487</td>\n",
       "      <td>0</td>\n",
       "      <td>1</td>\n",
       "      <td>0</td>\n",
       "      <td>0</td>\n",
       "      <td>1</td>\n",
       "      <td>0</td>\n",
       "      <td>0</td>\n",
       "      <td>1</td>\n",
       "      <td>0</td>\n",
       "      <td>0</td>\n",
       "      <td>0</td>\n",
       "      <td>0</td>\n",
       "      <td>0</td>\n",
       "      <td>0</td>\n",
       "      <td>0</td>\n",
       "      <td>0</td>\n",
       "      <td>0</td>\n",
       "      <td>0</td>\n",
       "      <td>0</td>\n",
       "      <td>0</td>\n",
       "      <td>0</td>\n",
       "      <td>0</td>\n",
       "      <td>0</td>\n",
       "      <td>0</td>\n",
       "      <td>0</td>\n",
       "      <td>0</td>\n",
       "      <td>0</td>\n",
       "      <td>0</td>\n",
       "      <td>0</td>\n",
       "      <td>0</td>\n",
       "      <td>1.0</td>\n",
       "      <td>11.0</td>\n",
       "      <td>0.0</td>\n",
       "      <td>1.0</td>\n",
       "      <td>8.0</td>\n",
       "      <td>3.0</td>\n",
       "      <td>6.0</td>\n",
       "      <td>2.0</td>\n",
       "      <td>4.0</td>\n",
       "      <td>0.0</td>\n",
       "      <td>0.0</td>\n",
       "      <td>9300.0</td>\n",
       "      <td>0</td>\n",
       "      <td>8</td>\n",
       "      <td>8</td>\n",
       "      <td>7</td>\n",
       "      <td>2</td>\n",
       "      <td>4</td>\n",
       "      <td>4</td>\n",
       "      <td>12</td>\n",
       "      <td>10</td>\n",
       "      <td>5</td>\n",
       "      <td>4</td>\n",
       "      <td>1</td>\n",
       "      <td>3</td>\n",
       "      <td>1</td>\n",
       "      <td>6</td>\n",
       "      <td>0.0</td>\n",
       "      <td>No</td>\n",
       "    </tr>\n",
       "    <tr>\n",
       "      <th>1466</th>\n",
       "      <td>PRV52820</td>\n",
       "      <td>5</td>\n",
       "      <td>3</td>\n",
       "      <td>0</td>\n",
       "      <td>1</td>\n",
       "      <td>2</td>\n",
       "      <td>0</td>\n",
       "      <td>2</td>\n",
       "      <td>1</td>\n",
       "      <td>0</td>\n",
       "      <td>1</td>\n",
       "      <td>0</td>\n",
       "      <td>0</td>\n",
       "      <td>0</td>\n",
       "      <td>0</td>\n",
       "      <td>0</td>\n",
       "      <td>0</td>\n",
       "      <td>0</td>\n",
       "      <td>0</td>\n",
       "      <td>0</td>\n",
       "      <td>0</td>\n",
       "      <td>0</td>\n",
       "      <td>0</td>\n",
       "      <td>0</td>\n",
       "      <td>0</td>\n",
       "      <td>0</td>\n",
       "      <td>0</td>\n",
       "      <td>0</td>\n",
       "      <td>0</td>\n",
       "      <td>0</td>\n",
       "      <td>0</td>\n",
       "      <td>12.0</td>\n",
       "      <td>18.0</td>\n",
       "      <td>0.0</td>\n",
       "      <td>1.0</td>\n",
       "      <td>22.0</td>\n",
       "      <td>7.0</td>\n",
       "      <td>25.0</td>\n",
       "      <td>3.0</td>\n",
       "      <td>1.0</td>\n",
       "      <td>1.0</td>\n",
       "      <td>0.0</td>\n",
       "      <td>6730.0</td>\n",
       "      <td>4</td>\n",
       "      <td>17</td>\n",
       "      <td>20</td>\n",
       "      <td>14</td>\n",
       "      <td>5</td>\n",
       "      <td>11</td>\n",
       "      <td>19</td>\n",
       "      <td>23</td>\n",
       "      <td>23</td>\n",
       "      <td>13</td>\n",
       "      <td>15</td>\n",
       "      <td>1</td>\n",
       "      <td>4</td>\n",
       "      <td>3</td>\n",
       "      <td>6</td>\n",
       "      <td>0.0</td>\n",
       "      <td>No</td>\n",
       "    </tr>\n",
       "    <tr>\n",
       "      <th>1298</th>\n",
       "      <td>PRV52614</td>\n",
       "      <td>18</td>\n",
       "      <td>6</td>\n",
       "      <td>9</td>\n",
       "      <td>11</td>\n",
       "      <td>3</td>\n",
       "      <td>11</td>\n",
       "      <td>4</td>\n",
       "      <td>5</td>\n",
       "      <td>9</td>\n",
       "      <td>3</td>\n",
       "      <td>0</td>\n",
       "      <td>0</td>\n",
       "      <td>0</td>\n",
       "      <td>0</td>\n",
       "      <td>0</td>\n",
       "      <td>0</td>\n",
       "      <td>0</td>\n",
       "      <td>0</td>\n",
       "      <td>0</td>\n",
       "      <td>0</td>\n",
       "      <td>0</td>\n",
       "      <td>0</td>\n",
       "      <td>0</td>\n",
       "      <td>0</td>\n",
       "      <td>0</td>\n",
       "      <td>0</td>\n",
       "      <td>0</td>\n",
       "      <td>0</td>\n",
       "      <td>0</td>\n",
       "      <td>0</td>\n",
       "      <td>30.0</td>\n",
       "      <td>64.0</td>\n",
       "      <td>2.0</td>\n",
       "      <td>4.0</td>\n",
       "      <td>58.0</td>\n",
       "      <td>30.0</td>\n",
       "      <td>82.0</td>\n",
       "      <td>9.0</td>\n",
       "      <td>0.0</td>\n",
       "      <td>3.0</td>\n",
       "      <td>0.0</td>\n",
       "      <td>42640.0</td>\n",
       "      <td>230</td>\n",
       "      <td>75</td>\n",
       "      <td>93</td>\n",
       "      <td>75</td>\n",
       "      <td>11</td>\n",
       "      <td>42</td>\n",
       "      <td>88</td>\n",
       "      <td>101</td>\n",
       "      <td>113</td>\n",
       "      <td>53</td>\n",
       "      <td>58</td>\n",
       "      <td>16</td>\n",
       "      <td>32</td>\n",
       "      <td>2</td>\n",
       "      <td>13</td>\n",
       "      <td>0.0</td>\n",
       "      <td>No</td>\n",
       "    </tr>\n",
       "    <tr>\n",
       "      <th>1385</th>\n",
       "      <td>PRV52721</td>\n",
       "      <td>0</td>\n",
       "      <td>0</td>\n",
       "      <td>0</td>\n",
       "      <td>0</td>\n",
       "      <td>0</td>\n",
       "      <td>0</td>\n",
       "      <td>0</td>\n",
       "      <td>0</td>\n",
       "      <td>0</td>\n",
       "      <td>0</td>\n",
       "      <td>0</td>\n",
       "      <td>0</td>\n",
       "      <td>0</td>\n",
       "      <td>0</td>\n",
       "      <td>0</td>\n",
       "      <td>0</td>\n",
       "      <td>0</td>\n",
       "      <td>0</td>\n",
       "      <td>0</td>\n",
       "      <td>0</td>\n",
       "      <td>0</td>\n",
       "      <td>0</td>\n",
       "      <td>0</td>\n",
       "      <td>0</td>\n",
       "      <td>0</td>\n",
       "      <td>0</td>\n",
       "      <td>0</td>\n",
       "      <td>0</td>\n",
       "      <td>0</td>\n",
       "      <td>0</td>\n",
       "      <td>4.0</td>\n",
       "      <td>3.0</td>\n",
       "      <td>0.0</td>\n",
       "      <td>1.0</td>\n",
       "      <td>4.0</td>\n",
       "      <td>2.0</td>\n",
       "      <td>5.0</td>\n",
       "      <td>0.0</td>\n",
       "      <td>2.0</td>\n",
       "      <td>0.0</td>\n",
       "      <td>0.0</td>\n",
       "      <td>1810.0</td>\n",
       "      <td>44</td>\n",
       "      <td>2</td>\n",
       "      <td>5</td>\n",
       "      <td>3</td>\n",
       "      <td>0</td>\n",
       "      <td>3</td>\n",
       "      <td>4</td>\n",
       "      <td>5</td>\n",
       "      <td>6</td>\n",
       "      <td>2</td>\n",
       "      <td>3</td>\n",
       "      <td>1</td>\n",
       "      <td>0</td>\n",
       "      <td>2</td>\n",
       "      <td>4</td>\n",
       "      <td>0.0</td>\n",
       "      <td>No</td>\n",
       "    </tr>\n",
       "  </tbody>\n",
       "</table>\n",
       "</div>"
      ],
      "text/plain": [
       "      Provider  CDC_4019  CDC_25000  CDC_2724  CDC_V5869  CDC_42731  CDC_4011  \\\n",
       "862   PRV52075         0          0         0          0          1         0   \n",
       "386   PRV51487         0          1         0          0          1         0   \n",
       "1466  PRV52820         5          3         0          1          2         0   \n",
       "1298  PRV52614        18          6         9         11          3        11   \n",
       "1385  PRV52721         0          0         0          0          0         0   \n",
       "\n",
       "      CDC_V5861  CDC_2449  CDC_2720  CDC_4280  DGC_882  DGC_884  DGC_166  \\\n",
       "862           0         0         0         0        0        0        0   \n",
       "386           0         1         0         0        0        0        0   \n",
       "1466          2         1         0         1        0        0        0   \n",
       "1298          4         5         9         3        0        0        0   \n",
       "1385          0         0         0         0        0        0        0   \n",
       "\n",
       "      DGC_183  DGC_939  DGC_883  DGC_168  DGC_887  DGC_204  DGC_867  \\\n",
       "862         0        0        0        0        0        0        0   \n",
       "386         0        0        0        0        0        0        0   \n",
       "1466        0        0        0        0        0        0        0   \n",
       "1298        0        0        0        0        0        0        0   \n",
       "1385        0        0        0        0        0        0        0   \n",
       "\n",
       "      CPC_4019.0  CPC_2724.0  CPC_9904.0  CPC_8154.0  CPC_66.0  CPC_3893.0  \\\n",
       "862            0           0           0           0         0           0   \n",
       "386            0           0           0           0         0           0   \n",
       "1466           0           0           0           0         0           0   \n",
       "1298           0           0           0           0         0           0   \n",
       "1385           0           0           0           0         0           0   \n",
       "\n",
       "      CPC_3995.0  CPC_4516.0  CPC_3722.0  CPC_8151.0  Male_Patient  \\\n",
       "862            0           0           0           0           2.0   \n",
       "386            0           0           0           0           1.0   \n",
       "1466           0           0           0           0          12.0   \n",
       "1298           0           0           0           0          30.0   \n",
       "1385           0           0           0           0           4.0   \n",
       "\n",
       "      Female_Patient  Age(26-40)  Age(41-60)  Age(61-80)  Age(81-100)  \\\n",
       "862              3.0         0.0         2.0         2.0          1.0   \n",
       "386             11.0         0.0         1.0         8.0          3.0   \n",
       "1466            18.0         0.0         1.0        22.0          7.0   \n",
       "1298            64.0         2.0         4.0        58.0         30.0   \n",
       "1385             3.0         0.0         1.0         4.0          2.0   \n",
       "\n",
       "      Race_White  Race_Black  Race_Hispanic  Race_Native  Hos_Stay_Total  \\\n",
       "862          2.0         1.0            0.0          2.0             0.0   \n",
       "386          6.0         2.0            4.0          0.0             0.0   \n",
       "1466        25.0         3.0            1.0          1.0             0.0   \n",
       "1298        82.0         9.0            0.0          3.0             0.0   \n",
       "1385         5.0         0.0            2.0          0.0             0.0   \n",
       "\n",
       "      Payment_Total  Claim_Len_Total  Alzheimer  Heartfailure  KidneyDisease  \\\n",
       "862          1220.0               20          1             2              1   \n",
       "386          9300.0                0          8             8              7   \n",
       "1466         6730.0                4         17            20             14   \n",
       "1298        42640.0              230         75            93             75   \n",
       "1385         1810.0               44          2             5              3   \n",
       "\n",
       "      Cancer  ObstrPulmonary  Depression  Diabetes  IschemicHeart  \\\n",
       "862        1               1           1         2              5   \n",
       "386        2               4           4        12             10   \n",
       "1466       5              11          19        23             23   \n",
       "1298      11              42          88       101            113   \n",
       "1385       0               3           4         5              6   \n",
       "\n",
       "      Osteoporasis  rheumatoidarthritis  stroke  RenalDisease  State_Count  \\\n",
       "862              1                    1       0             0            1   \n",
       "386              5                    4       1             3            1   \n",
       "1466            13                   15       1             4            3   \n",
       "1298            53                   58      16            32            2   \n",
       "1385             2                    3       1             0            2   \n",
       "\n",
       "      County_Count  DiagGroupCode PotentialFraud  \n",
       "862              1            0.0             No  \n",
       "386              6            0.0             No  \n",
       "1466             6            0.0             No  \n",
       "1298            13            0.0             No  \n",
       "1385             4            0.0             No  "
      ]
     },
     "execution_count": 115,
     "metadata": {},
     "output_type": "execute_result"
    }
   ],
   "source": [
    "All_Features.sample(5) # randomly sampling 5 rows of data"
   ]
  },
  {
   "cell_type": "markdown",
   "metadata": {},
   "source": [
    "# Baseline model (Logistic Regression, No Penalty)"
   ]
  },
  {
   "cell_type": "code",
   "execution_count": 144,
   "metadata": {},
   "outputs": [],
   "source": [
    "# Create instance of Logistic Regression Class\n",
    "lm = LogisticRegression(class_weight = 'balanced', solver = 'saga', random_state = 42, max_iter = 10000)"
   ]
  },
  {
   "cell_type": "code",
   "execution_count": 145,
   "metadata": {},
   "outputs": [
    {
     "name": "stdout",
     "output_type": "stream",
     "text": [
      "CPU times: user 1min 17s, sys: 535 ms, total: 1min 17s\n",
      "Wall time: 1min 18s\n"
     ]
    },
    {
     "data": {
      "text/plain": [
       "GridSearchCV(cv=3, error_score=nan,\n",
       "             estimator=LogisticRegression(C=1.0, class_weight='balanced',\n",
       "                                          dual=False, fit_intercept=True,\n",
       "                                          intercept_scaling=1, l1_ratio=None,\n",
       "                                          max_iter=10000, multi_class='auto',\n",
       "                                          n_jobs=None, penalty='l2',\n",
       "                                          random_state=42, solver='saga',\n",
       "                                          tol=0.0001, verbose=0,\n",
       "                                          warm_start=False),\n",
       "             iid='deprecated', n_jobs=None,\n",
       "             param_grid={'C': [0.1, 0.12, 0.15, 0.18, 0.2, 0.25, 0.3]},\n",
       "             pre_dispatch='2*n_jobs', refit=True, return_train_score=False,\n",
       "             scoring='accuracy', verbose=0)"
      ]
     },
     "execution_count": 145,
     "metadata": {},
     "output_type": "execute_result"
    }
   ],
   "source": [
    "# preparing dataset for train, test, split\n",
    "X = Train_set.drop('PotentialFraud', axis = 1)\n",
    "y = Train_set['PotentialFraud']\n",
    "\n",
    "# spliting the dataset into training set & testing set\n",
    "X_train, X_test, y_train, y_test = train_test_split(X, y, random_state = 42, shuffle = True, test_size = 0.3)\n",
    "\n",
    "X_train = preprocessing.scale(X_train) # scaling the X variables\n",
    "X_test = preprocessing.scale(X_test) # scaling the X variables\n",
    "\n",
    "# Grid Search \n",
    "params = {'C' : [0.1, 0.12, 0.15, 0.18, 0.2, 0.25, 0.3]}\n",
    "gs_lr = GridSearchCV(lm, params, cv = 3, scoring = 'accuracy')\n",
    "\n",
    "%time gs_lr.fit(X_train, y_train)"
   ]
  },
  {
   "cell_type": "code",
   "execution_count": 146,
   "metadata": {},
   "outputs": [
    {
     "name": "stdout",
     "output_type": "stream",
     "text": [
      "Best Params: {'C': 0.12}\n",
      "Best Score: 0.90256221717801\n"
     ]
    }
   ],
   "source": [
    "print('Best Params:', gs_lr.best_params_)\n",
    "print('Best Score:', gs_lr.best_score_)"
   ]
  },
  {
   "cell_type": "code",
   "execution_count": 147,
   "metadata": {},
   "outputs": [],
   "source": [
    "# Using Grid Search Hyperparameters for Featue Selection with Lasso Penalty\n",
    "lm.set_params(class_weight = 'balanced', solver = 'saga', random_state = 42, C = 0.12)\n",
    "lm.fit(X_train, y_train)\n",
    "y_pred = lm.predict(X_test)"
   ]
  },
  {
   "cell_type": "code",
   "execution_count": 148,
   "metadata": {},
   "outputs": [
    {
     "data": {
      "text/plain": [
       "<bound method BaseEstimator.get_params of LogisticRegression(C=0.12, class_weight='balanced', dual=False,\n",
       "                   fit_intercept=True, intercept_scaling=1, l1_ratio=None,\n",
       "                   max_iter=10000, multi_class='auto', n_jobs=None,\n",
       "                   penalty='l2', random_state=42, solver='saga', tol=0.0001,\n",
       "                   verbose=0, warm_start=False)>"
      ]
     },
     "execution_count": 148,
     "metadata": {},
     "output_type": "execute_result"
    }
   ],
   "source": [
    "lm.get_params"
   ]
  },
  {
   "cell_type": "code",
   "execution_count": 149,
   "metadata": {},
   "outputs": [
    {
     "name": "stdout",
     "output_type": "stream",
     "text": [
      "Train Set Score\n",
      "0.9078426194877212\n",
      " *  *  *  *  *  *  *  *  *  *  *  *  *  *  *  *  *  *  *  *  *  *  *  *  *  *  *  *  *  * \n",
      "Test Set Score\n",
      "0.9008009858287123\n",
      " *  *  *  *  *  *  *  *  *  *  *  *  *  *  *  *  *  *  *  *  *  *  *  *  *  *  *  *  *  * \n",
      "Confusion Matrix\n",
      "[[1343  121]\n",
      " [  40  119]]\n",
      " *  *  *  *  *  *  *  *  *  *  *  *  *  *  *  *  *  *  *  *  *  *  *  *  *  *  *  *  *  * \n",
      "Classification Report\n",
      "              precision    recall  f1-score   support\n",
      "\n",
      "           0       0.97      0.92      0.94      1464\n",
      "           1       0.50      0.75      0.60       159\n",
      "\n",
      "    accuracy                           0.90      1623\n",
      "   macro avg       0.73      0.83      0.77      1623\n",
      "weighted avg       0.92      0.90      0.91      1623\n",
      "\n"
     ]
    }
   ],
   "source": [
    "print('Train Set Score')\n",
    "print(lm.score(X_train, y_train))\n",
    "print(' * '* 30)\n",
    "print('Test Set Score')\n",
    "print(lm.score(X_test, y_test))\n",
    "print(' * '* 30)\n",
    "print('Confusion Matrix')\n",
    "print(confusion_matrix(y_test, y_pred))\n",
    "print(' * ' * 30)\n",
    "print('Classification Report') \n",
    "print(classification_report(y_test, y_pred))"
   ]
  },
  {
   "cell_type": "code",
   "execution_count": 204,
   "metadata": {},
   "outputs": [
    {
     "data": {
      "text/html": [
       "<div>\n",
       "<style scoped>\n",
       "    .dataframe tbody tr th:only-of-type {\n",
       "        vertical-align: middle;\n",
       "    }\n",
       "\n",
       "    .dataframe tbody tr th {\n",
       "        vertical-align: top;\n",
       "    }\n",
       "\n",
       "    .dataframe thead th {\n",
       "        text-align: right;\n",
       "    }\n",
       "</style>\n",
       "<table border=\"1\" class=\"dataframe\">\n",
       "  <thead>\n",
       "    <tr style=\"text-align: right;\">\n",
       "      <th></th>\n",
       "      <th>index</th>\n",
       "      <th>Coefficients</th>\n",
       "    </tr>\n",
       "  </thead>\n",
       "  <tbody>\n",
       "    <tr>\n",
       "      <th>0</th>\n",
       "      <td>Payment_Total</td>\n",
       "      <td>1.523955</td>\n",
       "    </tr>\n",
       "    <tr>\n",
       "      <th>1</th>\n",
       "      <td>Hos_Stay_Total</td>\n",
       "      <td>1.174641</td>\n",
       "    </tr>\n",
       "    <tr>\n",
       "      <th>2</th>\n",
       "      <td>RenalDisease</td>\n",
       "      <td>0.331702</td>\n",
       "    </tr>\n",
       "    <tr>\n",
       "      <th>3</th>\n",
       "      <td>CDC_42731</td>\n",
       "      <td>0.283980</td>\n",
       "    </tr>\n",
       "    <tr>\n",
       "      <th>4</th>\n",
       "      <td>stroke</td>\n",
       "      <td>0.248491</td>\n",
       "    </tr>\n",
       "    <tr>\n",
       "      <th>5</th>\n",
       "      <td>CPC_66.0</td>\n",
       "      <td>0.182121</td>\n",
       "    </tr>\n",
       "    <tr>\n",
       "      <th>6</th>\n",
       "      <td>DGC_183</td>\n",
       "      <td>0.130161</td>\n",
       "    </tr>\n",
       "    <tr>\n",
       "      <th>7</th>\n",
       "      <td>DGC_867</td>\n",
       "      <td>0.077975</td>\n",
       "    </tr>\n",
       "    <tr>\n",
       "      <th>8</th>\n",
       "      <td>DGC_204</td>\n",
       "      <td>0.028054</td>\n",
       "    </tr>\n",
       "  </tbody>\n",
       "</table>\n",
       "</div>"
      ],
      "text/plain": [
       "            index  Coefficients\n",
       "0   Payment_Total      1.523955\n",
       "1  Hos_Stay_Total      1.174641\n",
       "2    RenalDisease      0.331702\n",
       "3       CDC_42731      0.283980\n",
       "4          stroke      0.248491\n",
       "5        CPC_66.0      0.182121\n",
       "6         DGC_183      0.130161\n",
       "7         DGC_867      0.077975\n",
       "8         DGC_204      0.028054"
      ]
     },
     "execution_count": 204,
     "metadata": {},
     "output_type": "execute_result"
    }
   ],
   "source": [
    "Feature_Importance1 = pd.DataFrame(np.column_stack(lm.coef_ ), index = X.columns, columns = ['Coefficients']).sort_values(ascending = False, by = 'Coefficients').reset_index()\n",
    "Feature_Importance1.loc[Feature_Importance1.Coefficients > 0.0099]"
   ]
  },
  {
   "cell_type": "markdown",
   "metadata": {},
   "source": [
    "# Logistic Regression (Lasso Penalty for Feature Selection)"
   ]
  },
  {
   "cell_type": "code",
   "execution_count": 151,
   "metadata": {},
   "outputs": [],
   "source": [
    "X = Train_set.drop('PotentialFraud', axis = 1)\n",
    "y = Train_set['PotentialFraud']\n",
    "\n",
    "# spliting the dataset into training set & testing set\n",
    "X_train, X_test, y_train, y_test = train_test_split(X, y, random_state = 42, shuffle = True, test_size = 0.3)\n",
    "\n",
    "X_train = preprocessing.scale(X_train) # scaling the X variables\n",
    "X_test = preprocessing.scale(X_test) # scaling the X variables"
   ]
  },
  {
   "cell_type": "code",
   "execution_count": 152,
   "metadata": {},
   "outputs": [
    {
     "name": "stdout",
     "output_type": "stream",
     "text": [
      "CPU times: user 2min 14s, sys: 895 ms, total: 2min 15s\n",
      "Wall time: 2min 16s\n"
     ]
    },
    {
     "data": {
      "text/plain": [
       "GridSearchCV(cv=3, error_score=nan,\n",
       "             estimator=LogisticRegression(C=0.12, class_weight='balanced',\n",
       "                                          dual=False, fit_intercept=True,\n",
       "                                          intercept_scaling=1, l1_ratio=None,\n",
       "                                          max_iter=10000, multi_class='auto',\n",
       "                                          n_jobs=None, penalty='l2',\n",
       "                                          random_state=42, solver='saga',\n",
       "                                          tol=0.0001, verbose=0,\n",
       "                                          warm_start=False),\n",
       "             iid='deprecated', n_jobs=None,\n",
       "             param_grid={'C': [0.1, 0.12, 0.15, 0.18, 0.2, 0.25, 0.3],\n",
       "                         'penalty': ['l1']},\n",
       "             pre_dispatch='2*n_jobs', refit=True, return_train_score=False,\n",
       "             scoring='accuracy', verbose=0)"
      ]
     },
     "execution_count": 152,
     "metadata": {},
     "output_type": "execute_result"
    }
   ],
   "source": [
    "# Grid Search \n",
    "params = {'C' : [0.1, 0.12, 0.15, 0.18, 0.2, 0.25, 0.3], 'penalty': ['l1']}\n",
    "gs_lr = GridSearchCV(lm, params, cv = 3, scoring = 'accuracy')\n",
    "\n",
    "%time gs_lr.fit(X_train, y_train)"
   ]
  },
  {
   "cell_type": "code",
   "execution_count": 153,
   "metadata": {},
   "outputs": [
    {
     "name": "stdout",
     "output_type": "stream",
     "text": [
      "Best Params: {'C': 0.1, 'penalty': 'l1'}\n",
      "Best Score: 0.9025613806585833\n"
     ]
    }
   ],
   "source": [
    "print('Best Params:', gs_lr.best_params_)\n",
    "print('Best Score:', gs_lr.best_score_)"
   ]
  },
  {
   "cell_type": "code",
   "execution_count": 154,
   "metadata": {},
   "outputs": [],
   "source": [
    "# Using Grid Search Hyperparameters for Featue Selection with Lasso Penalty\n",
    "lm.set_params(class_weight = 'balanced', solver = 'saga', random_state = 42, C = 0.1, penalty = 'l1')\n",
    "lm.fit(X_train, y_train)\n",
    "y_pred = lm.predict(X_test)"
   ]
  },
  {
   "cell_type": "code",
   "execution_count": 155,
   "metadata": {},
   "outputs": [
    {
     "data": {
      "text/plain": [
       "<bound method BaseEstimator.get_params of LogisticRegression(C=0.1, class_weight='balanced', dual=False,\n",
       "                   fit_intercept=True, intercept_scaling=1, l1_ratio=None,\n",
       "                   max_iter=10000, multi_class='auto', n_jobs=None,\n",
       "                   penalty='l1', random_state=42, solver='saga', tol=0.0001,\n",
       "                   verbose=0, warm_start=False)>"
      ]
     },
     "execution_count": 155,
     "metadata": {},
     "output_type": "execute_result"
    }
   ],
   "source": [
    "lm.get_params # checking the parameters "
   ]
  },
  {
   "cell_type": "code",
   "execution_count": 156,
   "metadata": {
    "scrolled": false
   },
   "outputs": [
    {
     "name": "stdout",
     "output_type": "stream",
     "text": [
      "Train Set Score\n",
      "0.9067863744388698\n",
      " *  *  *  *  *  *  *  *  *  *  *  *  *  *  *  *  *  *  *  *  *  *  *  *  *  *  *  *  *  * \n",
      "Test Set Score\n",
      "0.9063462723351817\n",
      " *  *  *  *  *  *  *  *  *  *  *  *  *  *  *  *  *  *  *  *  *  *  *  *  *  *  *  *  *  * \n",
      "Confusion Matrix\n",
      "[[1348  116]\n",
      " [  36  123]]\n",
      " *  *  *  *  *  *  *  *  *  *  *  *  *  *  *  *  *  *  *  *  *  *  *  *  *  *  *  *  *  * \n",
      "Classification Report\n",
      "              precision    recall  f1-score   support\n",
      "\n",
      "           0       0.97      0.92      0.95      1464\n",
      "           1       0.51      0.77      0.62       159\n",
      "\n",
      "    accuracy                           0.91      1623\n",
      "   macro avg       0.74      0.85      0.78      1623\n",
      "weighted avg       0.93      0.91      0.91      1623\n",
      "\n",
      " *  *  *  *  *  *  *  *  *  *  *  *  *  *  *  *  *  *  *  *  *  *  *  *  *  *  *  *  *  * \n"
     ]
    }
   ],
   "source": [
    "print('Train Set Score')\n",
    "print(lm.score(X_train, y_train))\n",
    "print(' * '* 30)\n",
    "print('Test Set Score')\n",
    "print(lm.score(X_test, y_test))\n",
    "print(' * '* 30)\n",
    "print('Confusion Matrix')\n",
    "print(confusion_matrix(y_test, y_pred))\n",
    "print(' * ' * 30)\n",
    "print('Classification Report') \n",
    "print(classification_report(y_test, y_pred))\n",
    "print(' * ' * 30)"
   ]
  },
  {
   "cell_type": "code",
   "execution_count": 205,
   "metadata": {
    "scrolled": false
   },
   "outputs": [
    {
     "data": {
      "text/html": [
       "<div>\n",
       "<style scoped>\n",
       "    .dataframe tbody tr th:only-of-type {\n",
       "        vertical-align: middle;\n",
       "    }\n",
       "\n",
       "    .dataframe tbody tr th {\n",
       "        vertical-align: top;\n",
       "    }\n",
       "\n",
       "    .dataframe thead th {\n",
       "        text-align: right;\n",
       "    }\n",
       "</style>\n",
       "<table border=\"1\" class=\"dataframe\">\n",
       "  <thead>\n",
       "    <tr style=\"text-align: right;\">\n",
       "      <th></th>\n",
       "      <th>Features</th>\n",
       "      <th>Coefficients</th>\n",
       "    </tr>\n",
       "  </thead>\n",
       "  <tbody>\n",
       "    <tr>\n",
       "      <th>0</th>\n",
       "      <td>Payment_Total</td>\n",
       "      <td>1.523955</td>\n",
       "    </tr>\n",
       "    <tr>\n",
       "      <th>1</th>\n",
       "      <td>Hos_Stay_Total</td>\n",
       "      <td>1.174641</td>\n",
       "    </tr>\n",
       "    <tr>\n",
       "      <th>2</th>\n",
       "      <td>RenalDisease</td>\n",
       "      <td>0.331702</td>\n",
       "    </tr>\n",
       "    <tr>\n",
       "      <th>3</th>\n",
       "      <td>CDC_42731</td>\n",
       "      <td>0.283980</td>\n",
       "    </tr>\n",
       "    <tr>\n",
       "      <th>4</th>\n",
       "      <td>stroke</td>\n",
       "      <td>0.248491</td>\n",
       "    </tr>\n",
       "    <tr>\n",
       "      <th>5</th>\n",
       "      <td>CPC_66.0</td>\n",
       "      <td>0.182121</td>\n",
       "    </tr>\n",
       "    <tr>\n",
       "      <th>6</th>\n",
       "      <td>DGC_183</td>\n",
       "      <td>0.130161</td>\n",
       "    </tr>\n",
       "    <tr>\n",
       "      <th>7</th>\n",
       "      <td>DGC_867</td>\n",
       "      <td>0.077975</td>\n",
       "    </tr>\n",
       "    <tr>\n",
       "      <th>8</th>\n",
       "      <td>DGC_204</td>\n",
       "      <td>0.028054</td>\n",
       "    </tr>\n",
       "  </tbody>\n",
       "</table>\n",
       "</div>"
      ],
      "text/plain": [
       "         Features  Coefficients\n",
       "0   Payment_Total      1.523955\n",
       "1  Hos_Stay_Total      1.174641\n",
       "2    RenalDisease      0.331702\n",
       "3       CDC_42731      0.283980\n",
       "4          stroke      0.248491\n",
       "5        CPC_66.0      0.182121\n",
       "6         DGC_183      0.130161\n",
       "7         DGC_867      0.077975\n",
       "8         DGC_204      0.028054"
      ]
     },
     "execution_count": 205,
     "metadata": {},
     "output_type": "execute_result"
    }
   ],
   "source": [
    "Feature_Importance2 = pd.DataFrame(np.column_stack(lm.coef_ ), index = X.columns, columns = ['Coefficients']).\\\n",
    "sort_values(ascending = False, by = 'Coefficients').reset_index().rename(columns = {'index' : 'Features'})\n",
    "Feature_Importance2.loc[Feature_Importance2.Coefficients > 0.0099]"
   ]
  },
  {
   "cell_type": "markdown",
   "metadata": {},
   "source": [
    "## Comapison of Lasso Penalty and Random Forest Features with coef > 0.0099"
   ]
  },
  {
   "cell_type": "code",
   "execution_count": 82,
   "metadata": {},
   "outputs": [
    {
     "name": "stdout",
     "output_type": "stream",
     "text": [
      "Only in Lasso : \n",
      " ['DGC_882', 'CPC_8151.0', 'Race_Hispanic', 'DGC_867', 'Depression', 'DGC_204', 'DGC_883', 'CPC_66.0', 'Race_Native', 'DGC_168', 'DGC_887']\n",
      " *  *  *  *  *  *  *  *  *  *  *  *  *  *  *  *  *  *  *  *  *  *  *  *  *  *  *  *  *  *  *  *  *  *  *  *  *  *  *  *  *  *  *  *  *  *  *  *  *  *  *  *  *  *  *  *  *  *  *  *  *  *  *  *  *  *  *  *  *  * \n",
      "Only in Forest : \n",
      " ['CPC_4019.0', 'Age(81-100)', 'Female_Patient', 'IschemicHeart', 'CDC_2724', 'Male_Patient', 'Alzheimer', 'CDC_2720', 'DiagGroupCode', 'Race_White', 'CPC_2724.0', 'Age(41-60)', 'CDC_4019', 'KidneyDisease', 'Age(61-80)', 'CDC_2449', 'CDC_4280']\n"
     ]
    }
   ],
   "source": [
    "## Features from Random Forest\n",
    "lis1 = ['Hos_Stay_Total',\n",
    " 'DiagGroupCode',\n",
    " 'Payment_Total',\n",
    " 'Claim_Len_Total',\n",
    " 'CDC_4280',\n",
    " 'CDC_2449',\n",
    " 'CDC_42731',\n",
    " 'Race_White',\n",
    " 'CDC_4019',\n",
    " 'Age(61-80)',\n",
    " 'County_Count',\n",
    " 'Male_Patient',\n",
    " 'ObstrPulmonary',\n",
    " 'Female_Patient',\n",
    " 'Heartfailure',\n",
    " 'Alzheimer',\n",
    " 'IschemicHeart',\n",
    " 'Age(41-60)',\n",
    " 'CDC_2724',\n",
    " 'CPC_8154.0',\n",
    " 'RenalDisease',\n",
    " 'stroke',\n",
    " 'Age(81-100)',\n",
    " 'CDC_2720',\n",
    " 'KidneyDisease',\n",
    " 'CPC_4019.0',\n",
    " 'CPC_2724.0',\n",
    " 'CDC_4011',\n",
    " 'Cancer']\n",
    "\n",
    "\n",
    "## Features from Lasso \n",
    "lis2 = ['Payment_Total', 'Hos_Stay_Total', 'Claim_Len_Total', 'CDC_42731',\n",
    "       'Depression', 'County_Count', 'CPC_66.0', 'stroke', 'RenalDisease',\n",
    "       'DGC_887', 'Cancer', 'ObstrPulmonary', 'DGC_867', 'Heartfailure',\n",
    "       'CDC_4011', 'Race_Native', 'Race_Hispanic', 'DGC_883', 'DGC_168',\n",
    "       'CPC_8154.0', 'DGC_204', 'DGC_882', 'CPC_8151.0']\n",
    "\n",
    "print('Only in Lasso : \\n', list(set(lis2) - set(lis1)))\n",
    "print(' * '* 70)\n",
    "print('Only in Forest : \\n', list(set(lis1) - set(lis2)))"
   ]
  },
  {
   "cell_type": "markdown",
   "metadata": {},
   "source": [
    "# Logistic Regression (Lasso Features)"
   ]
  },
  {
   "cell_type": "code",
   "execution_count": 166,
   "metadata": {},
   "outputs": [
    {
     "name": "stdout",
     "output_type": "stream",
     "text": [
      "CPU times: user 8.89 s, sys: 298 ms, total: 9.18 s\n",
      "Wall time: 7.15 s\n"
     ]
    },
    {
     "data": {
      "text/plain": [
       "GridSearchCV(cv=3, error_score=nan,\n",
       "             estimator=LogisticRegression(C=0.2, class_weight='balanced',\n",
       "                                          dual=False, fit_intercept=True,\n",
       "                                          intercept_scaling=1, l1_ratio=None,\n",
       "                                          max_iter=10000, multi_class='auto',\n",
       "                                          n_jobs=None, penalty='l2',\n",
       "                                          random_state=42, solver='saga',\n",
       "                                          tol=0.0001, verbose=0,\n",
       "                                          warm_start=False),\n",
       "             iid='deprecated', n_jobs=None,\n",
       "             param_grid={'C': [0.1, 0.12, 0.15, 0.18, 0.2, 0.25, 0.3]},\n",
       "             pre_dispatch='2*n_jobs', refit=True, return_train_score=False,\n",
       "             scoring='accuracy', verbose=0)"
      ]
     },
     "execution_count": 166,
     "metadata": {},
     "output_type": "execute_result"
    }
   ],
   "source": [
    "# Using Lasso Feature Selection and Grid Search Hypermarameters & running Log Regression\n",
    "lm = LogisticRegression(class_weight = 'balanced', solver = 'saga', random_state = 42, C = 0.2, max_iter = 10000)\n",
    "\n",
    "X = Train_set[['Payment_Total',\n",
    " 'Hos_Stay_Total',\n",
    " 'RenalDisease',\n",
    " 'CDC_42731',\n",
    " 'stroke',\n",
    " 'County_Count',\n",
    " 'CPC_66.0',\n",
    " 'DGC_183',\n",
    " 'DGC_867',\n",
    " 'Heartfailure',\n",
    " 'DGC_204',\n",
    " 'CDC_V5861',\n",
    " 'State_Count']]\n",
    "               \n",
    "y = Train_set['PotentialFraud']\n",
    "\n",
    "X_train, X_test, y_train, y_test = train_test_split(X, y, random_state = 42, shuffle = True, test_size = 0.3)\n",
    "\n",
    "X_train = preprocessing.scale(X_train) # scaling the X variables\n",
    "X_test = preprocessing.scale(X_test) # scaling the X variables\n",
    "\n",
    "# Grid Search \n",
    "params = {'C' : [0.1, 0.12, 0.15, 0.18, 0.2, 0.25, 0.3]}\n",
    "gs_lr = GridSearchCV(lm, params, cv = 3, scoring = 'accuracy')\n",
    "\n",
    "%time gs_lr.fit(X_train, y_train)"
   ]
  },
  {
   "cell_type": "code",
   "execution_count": 167,
   "metadata": {},
   "outputs": [
    {
     "name": "stdout",
     "output_type": "stream",
     "text": [
      "Best Params: {'C': 0.1}\n",
      "Best Score: 0.9009765946047006\n"
     ]
    }
   ],
   "source": [
    "print('Best Params:', gs_lr.best_params_)\n",
    "print('Best Score:', gs_lr.best_score_)"
   ]
  },
  {
   "cell_type": "code",
   "execution_count": 168,
   "metadata": {},
   "outputs": [
    {
     "data": {
      "text/plain": [
       "<bound method BaseEstimator.get_params of LogisticRegression(C=0.1, class_weight='balanced', dual=False,\n",
       "                   fit_intercept=True, intercept_scaling=1, l1_ratio=None,\n",
       "                   max_iter=10000, multi_class='auto', n_jobs=None,\n",
       "                   penalty='l2', random_state=42, solver='saga', tol=0.0001,\n",
       "                   verbose=0, warm_start=False)>"
      ]
     },
     "execution_count": 168,
     "metadata": {},
     "output_type": "execute_result"
    }
   ],
   "source": [
    "# Using Grid Search Hyperparameters for Featue Selection with Lasso Penalty\n",
    "lm.set_params(class_weight = 'balanced', solver = 'saga', random_state = 42, C = 0.1)\n",
    "lm.fit(X_train, y_train)\n",
    "y_pred = lm.predict(X_test)\n",
    "lm.get_params"
   ]
  },
  {
   "cell_type": "code",
   "execution_count": 169,
   "metadata": {},
   "outputs": [
    {
     "data": {
      "text/plain": [
       "<bound method BaseEstimator.get_params of LogisticRegression(C=0.1, class_weight='balanced', dual=False,\n",
       "                   fit_intercept=True, intercept_scaling=1, l1_ratio=None,\n",
       "                   max_iter=10000, multi_class='auto', n_jobs=None,\n",
       "                   penalty='l2', random_state=42, solver='saga', tol=0.0001,\n",
       "                   verbose=0, warm_start=False)>"
      ]
     },
     "execution_count": 169,
     "metadata": {},
     "output_type": "execute_result"
    }
   ],
   "source": [
    "lm.get_params"
   ]
  },
  {
   "cell_type": "code",
   "execution_count": 170,
   "metadata": {},
   "outputs": [
    {
     "name": "stdout",
     "output_type": "stream",
     "text": [
      "Train Set Score\n",
      "0.9012410879324003\n",
      " *  *  *  *  *  *  *  *  *  *  *  *  *  *  *  *  *  *  *  *  *  *  *  *  *  *  *  *  *  * \n",
      "Test Set Score\n",
      "0.9014171287738756\n",
      " *  *  *  *  *  *  *  *  *  *  *  *  *  *  *  *  *  *  *  *  *  *  *  *  *  *  *  *  *  * \n",
      "Confusion Matrix\n",
      "[[1340  124]\n",
      " [  36  123]]\n",
      " *  *  *  *  *  *  *  *  *  *  *  *  *  *  *  *  *  *  *  *  *  *  *  *  *  *  *  *  *  * \n",
      "Classification Report\n",
      "              precision    recall  f1-score   support\n",
      "\n",
      "           0       0.97      0.92      0.94      1464\n",
      "           1       0.50      0.77      0.61       159\n",
      "\n",
      "    accuracy                           0.90      1623\n",
      "   macro avg       0.74      0.84      0.77      1623\n",
      "weighted avg       0.93      0.90      0.91      1623\n",
      "\n",
      " *  *  *  *  *  *  *  *  *  *  *  *  *  *  *  *  *  *  *  *  *  *  *  *  *  *  *  *  *  * \n"
     ]
    }
   ],
   "source": [
    "print('Train Set Score')\n",
    "print(lm.score(X_train, y_train))\n",
    "print(' * '* 30)\n",
    "print('Test Set Score')\n",
    "print(lm.score(X_test, y_test))\n",
    "print(' * '* 30)\n",
    "print('Confusion Matrix')\n",
    "print(confusion_matrix(y_test, y_pred))\n",
    "print(' * ' * 30)\n",
    "print('Classification Report') \n",
    "print(classification_report(y_test, y_pred))\n",
    "print(' * ' * 30)"
   ]
  },
  {
   "cell_type": "code",
   "execution_count": 172,
   "metadata": {
    "scrolled": false
   },
   "outputs": [
    {
     "data": {
      "text/html": [
       "<div>\n",
       "<style scoped>\n",
       "    .dataframe tbody tr th:only-of-type {\n",
       "        vertical-align: middle;\n",
       "    }\n",
       "\n",
       "    .dataframe tbody tr th {\n",
       "        vertical-align: top;\n",
       "    }\n",
       "\n",
       "    .dataframe thead th {\n",
       "        text-align: right;\n",
       "    }\n",
       "</style>\n",
       "<table border=\"1\" class=\"dataframe\">\n",
       "  <thead>\n",
       "    <tr style=\"text-align: right;\">\n",
       "      <th></th>\n",
       "      <th>Features</th>\n",
       "      <th>Coefficients</th>\n",
       "    </tr>\n",
       "  </thead>\n",
       "  <tbody>\n",
       "    <tr>\n",
       "      <th>0</th>\n",
       "      <td>Payment_Total</td>\n",
       "      <td>1.523955</td>\n",
       "    </tr>\n",
       "    <tr>\n",
       "      <th>1</th>\n",
       "      <td>Hos_Stay_Total</td>\n",
       "      <td>1.174641</td>\n",
       "    </tr>\n",
       "    <tr>\n",
       "      <th>2</th>\n",
       "      <td>RenalDisease</td>\n",
       "      <td>0.331702</td>\n",
       "    </tr>\n",
       "    <tr>\n",
       "      <th>3</th>\n",
       "      <td>CDC_42731</td>\n",
       "      <td>0.283980</td>\n",
       "    </tr>\n",
       "    <tr>\n",
       "      <th>4</th>\n",
       "      <td>stroke</td>\n",
       "      <td>0.248491</td>\n",
       "    </tr>\n",
       "    <tr>\n",
       "      <th>5</th>\n",
       "      <td>CPC_66.0</td>\n",
       "      <td>0.182121</td>\n",
       "    </tr>\n",
       "    <tr>\n",
       "      <th>6</th>\n",
       "      <td>DGC_183</td>\n",
       "      <td>0.130161</td>\n",
       "    </tr>\n",
       "    <tr>\n",
       "      <th>7</th>\n",
       "      <td>DGC_867</td>\n",
       "      <td>0.077975</td>\n",
       "    </tr>\n",
       "    <tr>\n",
       "      <th>8</th>\n",
       "      <td>DGC_204</td>\n",
       "      <td>0.028054</td>\n",
       "    </tr>\n",
       "  </tbody>\n",
       "</table>\n",
       "</div>"
      ],
      "text/plain": [
       "         Features  Coefficients\n",
       "0   Payment_Total      1.523955\n",
       "1  Hos_Stay_Total      1.174641\n",
       "2    RenalDisease      0.331702\n",
       "3       CDC_42731      0.283980\n",
       "4          stroke      0.248491\n",
       "5        CPC_66.0      0.182121\n",
       "6         DGC_183      0.130161\n",
       "7         DGC_867      0.077975\n",
       "8         DGC_204      0.028054"
      ]
     },
     "execution_count": 172,
     "metadata": {},
     "output_type": "execute_result"
    }
   ],
   "source": [
    "Feature_Importance3 = pd.DataFrame(np.column_stack(lm.coef_ ), index = X.columns, columns = ['Coefficients']).\\\n",
    "sort_values(ascending = False, by = 'Coefficients').reset_index().rename(columns = {'index' : 'Features'})\n",
    "Feature_Importance3.loc[Feature_Importance3.Coefficients > 0.0099]"
   ]
  },
  {
   "cell_type": "markdown",
   "metadata": {},
   "source": [
    "# Random Forest (Lasso Features)"
   ]
  },
  {
   "cell_type": "code",
   "execution_count": 192,
   "metadata": {
    "scrolled": true
   },
   "outputs": [
    {
     "name": "stdout",
     "output_type": "stream",
     "text": [
      "CPU times: user 4min 51s, sys: 4.08 s, total: 4min 55s\n",
      "Wall time: 5min 13s\n"
     ]
    },
    {
     "data": {
      "text/plain": [
       "GridSearchCV(cv=3, error_score=nan,\n",
       "             estimator=RandomForestClassifier(bootstrap=True, ccp_alpha=0.0,\n",
       "                                              class_weight='balanced',\n",
       "                                              criterion='gini', max_depth=None,\n",
       "                                              max_features='auto',\n",
       "                                              max_leaf_nodes=None,\n",
       "                                              max_samples=None,\n",
       "                                              min_impurity_decrease=0.0,\n",
       "                                              min_impurity_split=None,\n",
       "                                              min_samples_leaf=1,\n",
       "                                              min_samples_split=2,\n",
       "                                              min_weight_fraction_leaf=0.0,\n",
       "                                              n_estimators=100, n_jobs=None,\n",
       "                                              oob_score=False,\n",
       "                                              random_state=None, verbose=0,\n",
       "                                              warm_start=False),\n",
       "             iid='deprecated', n_jobs=None,\n",
       "             param_grid={'max_depth': range(10, 41, 10),\n",
       "                         'max_features': range(4, 8),\n",
       "                         'min_samples_leaf': range(1, 4),\n",
       "                         'min_samples_split': range(3, 8),\n",
       "                         'n_estimators': range(20, 41, 10)},\n",
       "             pre_dispatch='2*n_jobs', refit=True, return_train_score=False,\n",
       "             scoring='accuracy', verbose=0)"
      ]
     },
     "execution_count": 192,
     "metadata": {},
     "output_type": "execute_result"
    }
   ],
   "source": [
    "rf = RandomForestClassifier(class_weight = 'balanced')\n",
    "\n",
    "X = Train_set[['Payment_Total',\n",
    " 'Hos_Stay_Total',\n",
    " 'RenalDisease',\n",
    " 'CDC_42731',\n",
    " 'stroke',\n",
    " 'County_Count',\n",
    " 'CPC_66.0',\n",
    " 'DGC_183',\n",
    " 'DGC_867',\n",
    " 'Heartfailure',\n",
    " 'DGC_204',\n",
    " 'CDC_V5861',\n",
    " 'State_Count']]\n",
    "\n",
    "y = Train_set['PotentialFraud']\n",
    "\n",
    "X_train, X_test, y_train, y_test = train_test_split(X, y, random_state = 42, shuffle = True, test_size = 0.3)\n",
    "\n",
    "X_train = preprocessing.scale(X_train) # scaling the X variables\n",
    "X_test = preprocessing.scale(X_test) # scaling the X variables\n",
    "\n",
    "###############################################\n",
    "\n",
    "# Grid Search\n",
    "params = {'n_estimators' : range(20, 41, 10), 'max_depth' : range(10, 41, 10), 'max_features' : range(4, 8), \\\n",
    "          'min_samples_leaf' : range(1, 4), 'min_samples_split' : range(3, 8)}\n",
    "\n",
    "gs_rf = GridSearchCV(rf, params, cv = 3, scoring = 'accuracy')\n",
    "%time gs_rf.fit(X_train, y_train)"
   ]
  },
  {
   "cell_type": "code",
   "execution_count": 193,
   "metadata": {},
   "outputs": [
    {
     "name": "stdout",
     "output_type": "stream",
     "text": [
      "Best Params: {'max_depth': 30, 'max_features': 5, 'min_samples_leaf': 1, 'min_samples_split': 5, 'n_estimators': 30}\n",
      "Best Score: 0.9350402930494855\n"
     ]
    }
   ],
   "source": [
    "print('Best Params:', gs_rf.best_params_)\n",
    "print('Best Score:', gs_rf.best_score_)"
   ]
  },
  {
   "cell_type": "code",
   "execution_count": 194,
   "metadata": {},
   "outputs": [],
   "source": [
    "# Setting the optimized hyperparameters\n",
    "rf.set_params( max_depth = 30, max_features = 5, min_samples_leaf = 1, min_samples_split = 5, n_estimators = 30 )\n",
    "rf.fit(X_train, y_train)\n",
    "y_pred = rf.predict(X_test)"
   ]
  },
  {
   "cell_type": "code",
   "execution_count": 195,
   "metadata": {},
   "outputs": [
    {
     "data": {
      "text/plain": [
       "<bound method BaseEstimator.get_params of RandomForestClassifier(bootstrap=True, ccp_alpha=0.0, class_weight='balanced',\n",
       "                       criterion='gini', max_depth=30, max_features=5,\n",
       "                       max_leaf_nodes=None, max_samples=None,\n",
       "                       min_impurity_decrease=0.0, min_impurity_split=None,\n",
       "                       min_samples_leaf=1, min_samples_split=5,\n",
       "                       min_weight_fraction_leaf=0.0, n_estimators=30,\n",
       "                       n_jobs=None, oob_score=False, random_state=None,\n",
       "                       verbose=0, warm_start=False)>"
      ]
     },
     "execution_count": 195,
     "metadata": {},
     "output_type": "execute_result"
    }
   ],
   "source": [
    "rf.get_params"
   ]
  },
  {
   "cell_type": "code",
   "execution_count": 196,
   "metadata": {
    "scrolled": false
   },
   "outputs": [
    {
     "name": "stdout",
     "output_type": "stream",
     "text": [
      "Train Set Score\n",
      "0.996831264853446\n",
      " *  *  *  *  *  *  *  *  *  *  *  *  *  *  *  *  *  *  *  *  *  *  *  *  *  *  *  *  *  * \n",
      "Test Set Score\n",
      "0.9260628465804066\n",
      " *  *  *  *  *  *  *  *  *  *  *  *  *  *  *  *  *  *  *  *  *  *  *  *  *  *  *  *  *  * \n",
      "Confusion Matrix\n",
      "[[1425   39]\n",
      " [  81   78]]\n",
      " *  *  *  *  *  *  *  *  *  *  *  *  *  *  *  *  *  *  *  *  *  *  *  *  *  *  *  *  *  * \n",
      "Classification Report\n",
      "              precision    recall  f1-score   support\n",
      "\n",
      "           0       0.95      0.97      0.96      1464\n",
      "           1       0.67      0.49      0.57       159\n",
      "\n",
      "    accuracy                           0.93      1623\n",
      "   macro avg       0.81      0.73      0.76      1623\n",
      "weighted avg       0.92      0.93      0.92      1623\n",
      "\n",
      " *  *  *  *  *  *  *  *  *  *  *  *  *  *  *  *  *  *  *  *  *  *  *  *  *  *  *  *  *  * \n"
     ]
    }
   ],
   "source": [
    "print('Train Set Score')\n",
    "print(rf.score(X_train, y_train))\n",
    "print(' * '* 30)\n",
    "print('Test Set Score')\n",
    "print(rf.score(X_test, y_test))\n",
    "print(' * '* 30)\n",
    "print('Confusion Matrix')\n",
    "print(confusion_matrix(y_test, y_pred))\n",
    "print(' * ' * 30)\n",
    "print('Classification Report') \n",
    "print(classification_report(y_test, y_pred))\n",
    "print(' * ' * 30)"
   ]
  },
  {
   "cell_type": "code",
   "execution_count": 182,
   "metadata": {},
   "outputs": [
    {
     "data": {
      "text/html": [
       "<div>\n",
       "<style scoped>\n",
       "    .dataframe tbody tr th:only-of-type {\n",
       "        vertical-align: middle;\n",
       "    }\n",
       "\n",
       "    .dataframe tbody tr th {\n",
       "        vertical-align: top;\n",
       "    }\n",
       "\n",
       "    .dataframe thead th {\n",
       "        text-align: right;\n",
       "    }\n",
       "</style>\n",
       "<table border=\"1\" class=\"dataframe\">\n",
       "  <thead>\n",
       "    <tr style=\"text-align: right;\">\n",
       "      <th></th>\n",
       "      <th>FeatureName</th>\n",
       "      <th>Importance</th>\n",
       "    </tr>\n",
       "  </thead>\n",
       "  <tbody>\n",
       "    <tr>\n",
       "      <th>0</th>\n",
       "      <td>Payment_Total</td>\n",
       "      <td>0.398717</td>\n",
       "    </tr>\n",
       "    <tr>\n",
       "      <th>1</th>\n",
       "      <td>Hos_Stay_Total</td>\n",
       "      <td>0.233027</td>\n",
       "    </tr>\n",
       "    <tr>\n",
       "      <th>2</th>\n",
       "      <td>CDC_42731</td>\n",
       "      <td>0.145915</td>\n",
       "    </tr>\n",
       "    <tr>\n",
       "      <th>3</th>\n",
       "      <td>RenalDisease</td>\n",
       "      <td>0.071974</td>\n",
       "    </tr>\n",
       "    <tr>\n",
       "      <th>4</th>\n",
       "      <td>stroke</td>\n",
       "      <td>0.047924</td>\n",
       "    </tr>\n",
       "    <tr>\n",
       "      <th>5</th>\n",
       "      <td>Heartfailure</td>\n",
       "      <td>0.037354</td>\n",
       "    </tr>\n",
       "    <tr>\n",
       "      <th>6</th>\n",
       "      <td>County_Count</td>\n",
       "      <td>0.030877</td>\n",
       "    </tr>\n",
       "    <tr>\n",
       "      <th>7</th>\n",
       "      <td>State_Count</td>\n",
       "      <td>0.017366</td>\n",
       "    </tr>\n",
       "    <tr>\n",
       "      <th>8</th>\n",
       "      <td>CDC_V5861</td>\n",
       "      <td>0.012073</td>\n",
       "    </tr>\n",
       "  </tbody>\n",
       "</table>\n",
       "</div>"
      ],
      "text/plain": [
       "      FeatureName  Importance\n",
       "0   Payment_Total    0.398717\n",
       "1  Hos_Stay_Total    0.233027\n",
       "2       CDC_42731    0.145915\n",
       "3    RenalDisease    0.071974\n",
       "4          stroke    0.047924\n",
       "5    Heartfailure    0.037354\n",
       "6    County_Count    0.030877\n",
       "7     State_Count    0.017366\n",
       "8       CDC_V5861    0.012073"
      ]
     },
     "execution_count": 182,
     "metadata": {},
     "output_type": "execute_result"
    }
   ],
   "source": [
    "Feature_Importance4 = pd.DataFrame(sorted(zip(X.columns, rf.feature_importances_), key=lambda t:t[1], reverse=True), columns = ['FeatureName',  'Importance'])\n",
    "Feature_Importance4.loc[Feature_Importance4.Importance > 0.009]"
   ]
  },
  {
   "cell_type": "markdown",
   "metadata": {},
   "source": [
    "# Random Forest (All Features)"
   ]
  },
  {
   "cell_type": "code",
   "execution_count": 38,
   "metadata": {},
   "outputs": [
    {
     "name": "stdout",
     "output_type": "stream",
     "text": [
      "CPU times: user 25min 48s, sys: 31.9 s, total: 26min 20s\n",
      "Wall time: 27min 51s\n"
     ]
    },
    {
     "data": {
      "text/plain": [
       "GridSearchCV(cv=3, error_score=nan,\n",
       "             estimator=RandomForestClassifier(bootstrap=True, ccp_alpha=0.0,\n",
       "                                              class_weight='balanced',\n",
       "                                              criterion='gini', max_depth=None,\n",
       "                                              max_features='auto',\n",
       "                                              max_leaf_nodes=None,\n",
       "                                              max_samples=None,\n",
       "                                              min_impurity_decrease=0.0,\n",
       "                                              min_impurity_split=None,\n",
       "                                              min_samples_leaf=1,\n",
       "                                              min_samples_split=2,\n",
       "                                              min_weight_fraction_leaf=0.0,\n",
       "                                              n_estimators=100, n_jobs=None,\n",
       "                                              oob_score=False,\n",
       "                                              random_state=None, verbose=0,\n",
       "                                              warm_start=False),\n",
       "             iid='deprecated', n_jobs=None,\n",
       "             param_grid={'max_depth': range(3, 9), 'max_features': range(3, 9),\n",
       "                         'min_samples_leaf': range(1, 5),\n",
       "                         'min_samples_split': range(3, 9),\n",
       "                         'n_estimators': range(30, 50, 5)},\n",
       "             pre_dispatch='2*n_jobs', refit=True, return_train_score=False,\n",
       "             scoring='accuracy', verbose=0)"
      ]
     },
     "execution_count": 38,
     "metadata": {},
     "output_type": "execute_result"
    }
   ],
   "source": [
    "rf = RandomForestClassifier(class_weight = 'balanced')\n",
    "\n",
    "X = Train_set.drop('PotentialFraud', axis = 1)\n",
    "\n",
    "y = Train_set['PotentialFraud']\n",
    "\n",
    "X_train, X_test, y_train, y_test = train_test_split(X, y, random_state = 42, shuffle = True, test_size = 0.3)\n",
    "\n",
    "X_train = preprocessing.scale(X_train) # scaling the X variables\n",
    "X_test = preprocessing.scale(X_test) # scaling the X variables\n",
    "\n",
    "###############################################\n",
    "\n",
    "# Grid Search\n",
    "params = {'n_estimators' : range(30, 50, 5), 'max_depth' : range(3, 9), 'max_features' : range(3,9), \\\n",
    "          'min_samples_leaf' : range(1,5), 'min_samples_split' : range(3,9)}\n",
    "\n",
    "gs_rf = GridSearchCV(rf, params, cv = 3, scoring = 'accuracy')\n",
    "%time gs_rf.fit(X_train, y_train)"
   ]
  },
  {
   "cell_type": "code",
   "execution_count": 39,
   "metadata": {},
   "outputs": [
    {
     "name": "stdout",
     "output_type": "stream",
     "text": [
      "Best Params: {'max_depth': 8, 'max_features': 5, 'min_samples_leaf': 1, 'min_samples_split': 4, 'n_estimators': 40}\n",
      "Best Score: 0.9292333843191924\n"
     ]
    }
   ],
   "source": [
    "print('Best Params:', gs_rf.best_params_)\n",
    "print('Best Score:', gs_rf.best_score_)"
   ]
  },
  {
   "cell_type": "code",
   "execution_count": 40,
   "metadata": {},
   "outputs": [
    {
     "name": "stderr",
     "output_type": "stream",
     "text": [
      "[Parallel(n_jobs=1)]: Using backend SequentialBackend with 1 concurrent workers.\n",
      "[Parallel(n_jobs=1)]: Done  40 out of  40 | elapsed:    0.2s finished\n",
      "[Parallel(n_jobs=1)]: Using backend SequentialBackend with 1 concurrent workers.\n",
      "[Parallel(n_jobs=1)]: Done  40 out of  40 | elapsed:    0.0s finished\n"
     ]
    }
   ],
   "source": [
    "# Setting the optimized hyperparameters\n",
    "rf.set_params(n_estimators = 40, verbose = 1, min_samples_split = 4, min_samples_leaf = 1, max_depth = 8, max_features = 5)\n",
    "rf.fit(X_train, y_train)\n",
    "y_pred = rf.predict(X_test)"
   ]
  },
  {
   "cell_type": "code",
   "execution_count": 42,
   "metadata": {},
   "outputs": [
    {
     "data": {
      "text/plain": [
       "<bound method BaseEstimator.get_params of RandomForestClassifier(bootstrap=True, ccp_alpha=0.0, class_weight='balanced',\n",
       "                       criterion='gini', max_depth=8, max_features=5,\n",
       "                       max_leaf_nodes=None, max_samples=None,\n",
       "                       min_impurity_decrease=0.0, min_impurity_split=None,\n",
       "                       min_samples_leaf=1, min_samples_split=4,\n",
       "                       min_weight_fraction_leaf=0.0, n_estimators=40,\n",
       "                       n_jobs=None, oob_score=False, random_state=None,\n",
       "                       verbose=1, warm_start=False)>"
      ]
     },
     "execution_count": 42,
     "metadata": {},
     "output_type": "execute_result"
    }
   ],
   "source": [
    "rf.get_params"
   ]
  },
  {
   "cell_type": "code",
   "execution_count": 43,
   "metadata": {},
   "outputs": [
    {
     "name": "stdout",
     "output_type": "stream",
     "text": [
      "Train Set Score\n",
      "0.9516767890150515\n",
      " *  *  *  *  *  *  *  *  *  *  *  *  *  *  *  *  *  *  *  *  *  *  *  *  *  *  *  *  *  * \n",
      "Test Set Score\n",
      "0.9081947011706716\n",
      " *  *  *  *  *  *  *  *  *  *  *  *  *  *  *  *  *  *  *  *  *  *  *  *  *  *  *  *  *  * \n",
      "Confusion Matrix\n",
      "[[1351   93]\n",
      " [  56  123]]\n",
      " *  *  *  *  *  *  *  *  *  *  *  *  *  *  *  *  *  *  *  *  *  *  *  *  *  *  *  *  *  * \n",
      "Classification Report\n",
      "              precision    recall  f1-score   support\n",
      "\n",
      "           0       0.96      0.94      0.95      1444\n",
      "           1       0.57      0.69      0.62       179\n",
      "\n",
      "    accuracy                           0.91      1623\n",
      "   macro avg       0.76      0.81      0.79      1623\n",
      "weighted avg       0.92      0.91      0.91      1623\n",
      "\n",
      " *  *  *  *  *  *  *  *  *  *  *  *  *  *  *  *  *  *  *  *  *  *  *  *  *  *  *  *  *  * \n"
     ]
    },
    {
     "name": "stderr",
     "output_type": "stream",
     "text": [
      "[Parallel(n_jobs=1)]: Using backend SequentialBackend with 1 concurrent workers.\n",
      "[Parallel(n_jobs=1)]: Done  40 out of  40 | elapsed:    0.0s finished\n",
      "[Parallel(n_jobs=1)]: Using backend SequentialBackend with 1 concurrent workers.\n",
      "[Parallel(n_jobs=1)]: Done  40 out of  40 | elapsed:    0.0s finished\n"
     ]
    }
   ],
   "source": [
    "print('Train Set Score')\n",
    "print(rf.score(X_train, y_train))\n",
    "print(' * '* 30)\n",
    "print('Test Set Score')\n",
    "print(rf.score(X_test, y_test))\n",
    "print(' * '* 30)\n",
    "print('Confusion Matrix')\n",
    "print(confusion_matrix(y_test, y_pred))\n",
    "print(' * ' * 30)\n",
    "print('Classification Report') \n",
    "print(classification_report(y_test, y_pred))\n",
    "print(' * ' * 30)"
   ]
  },
  {
   "cell_type": "code",
   "execution_count": 206,
   "metadata": {
    "scrolled": false
   },
   "outputs": [
    {
     "data": {
      "text/plain": [
       "0      Hos_Stay_Total\n",
       "1       DiagGroupCode\n",
       "2       Payment_Total\n",
       "3     Claim_Len_Total\n",
       "4            CDC_4280\n",
       "5            CDC_2449\n",
       "6           CDC_42731\n",
       "7          Race_White\n",
       "8            CDC_4019\n",
       "9          Age(61-80)\n",
       "10       County_Count\n",
       "11       Male_Patient\n",
       "12     ObstrPulmonary\n",
       "13     Female_Patient\n",
       "14       Heartfailure\n",
       "15          Alzheimer\n",
       "16      IschemicHeart\n",
       "17         Age(41-60)\n",
       "18           CDC_2724\n",
       "19         CPC_8154.0\n",
       "20       RenalDisease\n",
       "21             stroke\n",
       "22        Age(81-100)\n",
       "23           CDC_2720\n",
       "24      KidneyDisease\n",
       "25         CPC_4019.0\n",
       "26         CPC_2724.0\n",
       "27           CDC_4011\n",
       "28             Cancer\n",
       "Name: FeatureName, dtype: object"
      ]
     },
     "execution_count": 206,
     "metadata": {},
     "output_type": "execute_result"
    }
   ],
   "source": [
    "# Feature_Importance5 = pd.DataFrame(sorted(zip(X.columns, rf.feature_importances_), key=lambda t:t[1], reverse=True), columns = ['FeatureName',  'Importance'])\n",
    "Feature_Importance5.loc[Feature_Importance5.Importance > 0.0099]['FeatureName']"
   ]
  },
  {
   "cell_type": "markdown",
   "metadata": {},
   "source": [
    "# Random Forest (Features from above with coef > 0.0099)"
   ]
  },
  {
   "cell_type": "code",
   "execution_count": 104,
   "metadata": {},
   "outputs": [
    {
     "name": "stdout",
     "output_type": "stream",
     "text": [
      "CPU times: user 24min 52s, sys: 16.2 s, total: 25min 8s\n",
      "Wall time: 25min 48s\n"
     ]
    },
    {
     "data": {
      "text/plain": [
       "GridSearchCV(cv=3, error_score=nan,\n",
       "             estimator=RandomForestClassifier(bootstrap=True, ccp_alpha=0.0,\n",
       "                                              class_weight='balanced',\n",
       "                                              criterion='gini', max_depth=None,\n",
       "                                              max_features='auto',\n",
       "                                              max_leaf_nodes=None,\n",
       "                                              max_samples=None,\n",
       "                                              min_impurity_decrease=0.0,\n",
       "                                              min_impurity_split=None,\n",
       "                                              min_samples_leaf=1,\n",
       "                                              min_samples_split=2,\n",
       "                                              min_weight_fraction_leaf=0.0,\n",
       "                                              n_estimators=100, n_jobs=None,\n",
       "                                              oob_score=False,\n",
       "                                              random_state=None, verbose=0,\n",
       "                                              warm_start=False),\n",
       "             iid='deprecated', n_jobs=None,\n",
       "             param_grid={'max_depth': range(3, 9), 'max_features': range(3, 9),\n",
       "                         'min_samples_leaf': range(1, 5),\n",
       "                         'min_samples_split': range(3, 9),\n",
       "                         'n_estimators': range(30, 50, 5)},\n",
       "             pre_dispatch='2*n_jobs', refit=True, return_train_score=False,\n",
       "             scoring='accuracy', verbose=0)"
      ]
     },
     "execution_count": 104,
     "metadata": {},
     "output_type": "execute_result"
    }
   ],
   "source": [
    "rf = RandomForestClassifier(class_weight = 'balanced')\n",
    "\n",
    "X = Train_set[['Hos_Stay_Total', 'DiagGroupCode', 'Payment_Total', 'Claim_Len_Total', 'CDC_4280', 'CDC_2449', 'CDC_42731', 'Race_White', 'CDC_4019',\n",
    " 'Age(61-80)', 'County_Count', 'Male_Patient', 'ObstrPulmonary', 'Female_Patient', 'Heartfailure', 'Alzheimer', 'IschemicHeart', 'Age(41-60)', 'CDC_2724', 'CPC_8154.0',\n",
    " 'RenalDisease', 'stroke', 'Age(81-100)', 'CDC_2720', 'KidneyDisease', 'CPC_4019.0', 'CPC_2724.0', 'CDC_4011', 'Cancer']]\n",
    "\n",
    "y = Train_set['PotentialFraud']\n",
    "\n",
    "X_train, X_test, y_train, y_test = train_test_split(X, y, random_state = 42, shuffle = True, test_size = 0.3)\n",
    "\n",
    "X_train = preprocessing.scale(X_train) # scaling the X variables\n",
    "X_test = preprocessing.scale(X_test) # scaling the X variables\n",
    "\n",
    "###############################################\n",
    "\n",
    "# Grid Search\n",
    "params = {'n_estimators' : range(30, 50, 5), 'max_depth' : range(3, 9), 'max_features' : range(3,9), \\\n",
    "          'min_samples_leaf' : range(1,5), 'min_samples_split' : range(3,9)}\n",
    "\n",
    "gs_rf = GridSearchCV(rf, params, cv = 3, scoring = 'accuracy')\n",
    "%time gs_rf.fit(X_train, y_train)"
   ]
  },
  {
   "cell_type": "code",
   "execution_count": 105,
   "metadata": {},
   "outputs": [
    {
     "name": "stdout",
     "output_type": "stream",
     "text": [
      "Best Params: {'max_depth': 8, 'max_features': 4, 'min_samples_leaf': 1, 'min_samples_split': 3, 'n_estimators': 35}\n",
      "Best Score: 0.924744202815808\n"
     ]
    }
   ],
   "source": [
    "print('Best Params:', gs_rf.best_params_)\n",
    "print('Best Score:', gs_rf.best_score_)"
   ]
  },
  {
   "cell_type": "code",
   "execution_count": 106,
   "metadata": {},
   "outputs": [
    {
     "name": "stderr",
     "output_type": "stream",
     "text": [
      "[Parallel(n_jobs=1)]: Using backend SequentialBackend with 1 concurrent workers.\n",
      "[Parallel(n_jobs=1)]: Done  35 out of  35 | elapsed:    0.2s finished\n",
      "[Parallel(n_jobs=1)]: Using backend SequentialBackend with 1 concurrent workers.\n",
      "[Parallel(n_jobs=1)]: Done  35 out of  35 | elapsed:    0.0s finished\n"
     ]
    }
   ],
   "source": [
    "# Setting the optimized hyperparameters\n",
    "rf.set_params(n_estimators = 35, verbose = 1, min_samples_split = 3, min_samples_leaf = 1, max_depth = 8, max_features = 4)\n",
    "rf.fit(X_train, y_train)\n",
    "y_pred = rf.predict(X_test)"
   ]
  },
  {
   "cell_type": "code",
   "execution_count": 107,
   "metadata": {},
   "outputs": [
    {
     "data": {
      "text/plain": [
       "<bound method BaseEstimator.get_params of RandomForestClassifier(bootstrap=True, ccp_alpha=0.0, class_weight='balanced',\n",
       "                       criterion='gini', max_depth=8, max_features=4,\n",
       "                       max_leaf_nodes=None, max_samples=None,\n",
       "                       min_impurity_decrease=0.0, min_impurity_split=None,\n",
       "                       min_samples_leaf=1, min_samples_split=3,\n",
       "                       min_weight_fraction_leaf=0.0, n_estimators=35,\n",
       "                       n_jobs=None, oob_score=False, random_state=None,\n",
       "                       verbose=1, warm_start=False)>"
      ]
     },
     "execution_count": 107,
     "metadata": {},
     "output_type": "execute_result"
    }
   ],
   "source": [
    "rf.get_params"
   ]
  },
  {
   "cell_type": "code",
   "execution_count": 108,
   "metadata": {},
   "outputs": [
    {
     "name": "stdout",
     "output_type": "stream",
     "text": [
      "Train Set Score\n",
      "0.9482439926062847\n",
      " *  *  *  *  *  *  *  *  *  *  *  *  *  *  *  *  *  *  *  *  *  *  *  *  *  *  *  *  *  * \n",
      "Test Set Score\n",
      "0.9032655576093653\n",
      " *  *  *  *  *  *  *  *  *  *  *  *  *  *  *  *  *  *  *  *  *  *  *  *  *  *  *  *  *  * \n",
      "Confusion Matrix\n",
      "[[1342  102]\n",
      " [  55  124]]\n",
      " *  *  *  *  *  *  *  *  *  *  *  *  *  *  *  *  *  *  *  *  *  *  *  *  *  *  *  *  *  * \n",
      "Classification Report\n",
      "              precision    recall  f1-score   support\n",
      "\n",
      "           0       0.96      0.93      0.94      1444\n",
      "           1       0.55      0.69      0.61       179\n",
      "\n",
      "    accuracy                           0.90      1623\n",
      "   macro avg       0.75      0.81      0.78      1623\n",
      "weighted avg       0.92      0.90      0.91      1623\n",
      "\n",
      " *  *  *  *  *  *  *  *  *  *  *  *  *  *  *  *  *  *  *  *  *  *  *  *  *  *  *  *  *  * \n"
     ]
    },
    {
     "name": "stderr",
     "output_type": "stream",
     "text": [
      "[Parallel(n_jobs=1)]: Using backend SequentialBackend with 1 concurrent workers.\n",
      "[Parallel(n_jobs=1)]: Done  35 out of  35 | elapsed:    0.0s finished\n",
      "[Parallel(n_jobs=1)]: Using backend SequentialBackend with 1 concurrent workers.\n",
      "[Parallel(n_jobs=1)]: Done  35 out of  35 | elapsed:    0.0s finished\n"
     ]
    }
   ],
   "source": [
    "print('Train Set Score')\n",
    "print(rf.score(X_train, y_train))\n",
    "print(' * '* 30)\n",
    "print('Test Set Score')\n",
    "print(rf.score(X_test, y_test))\n",
    "print(' * '* 30)\n",
    "print('Confusion Matrix')\n",
    "print(confusion_matrix(y_test, y_pred))\n",
    "print(' * ' * 30)\n",
    "print('Classification Report') \n",
    "print(classification_report(y_test, y_pred))\n",
    "print(' * ' * 30)"
   ]
  },
  {
   "cell_type": "code",
   "execution_count": 207,
   "metadata": {},
   "outputs": [
    {
     "data": {
      "text/plain": [
       "0     Payment_Total\n",
       "1    Hos_Stay_Total\n",
       "2         CDC_42731\n",
       "3      RenalDisease\n",
       "4      Heartfailure\n",
       "5      County_Count\n",
       "6            stroke\n",
       "7       State_Count\n",
       "8         CDC_V5861\n",
       "Name: FeatureName, dtype: object"
      ]
     },
     "execution_count": 207,
     "metadata": {},
     "output_type": "execute_result"
    }
   ],
   "source": [
    "Feature_Importance5_1 = pd.DataFrame(sorted(zip(X.columns, rf.feature_importances_), key=lambda t:t[1], reverse=True), columns = ['FeatureName',  'Importance'])\n",
    "Feature_Importance5_1.loc[Feature_Importance5_1.Importance > 0.0099]['FeatureName']"
   ]
  },
  {
   "cell_type": "markdown",
   "metadata": {},
   "source": [
    "# Gradient Boosting (Lasso Features)"
   ]
  },
  {
   "cell_type": "code",
   "execution_count": 198,
   "metadata": {},
   "outputs": [
    {
     "name": "stdout",
     "output_type": "stream",
     "text": [
      "CPU times: user 19min 36s, sys: 7.2 s, total: 19min 44s\n",
      "Wall time: 20min 13s\n"
     ]
    },
    {
     "data": {
      "text/plain": [
       "GridSearchCV(cv=3, error_score=nan,\n",
       "             estimator=GradientBoostingClassifier(ccp_alpha=0.0,\n",
       "                                                  criterion='friedman_mse',\n",
       "                                                  init=None, learning_rate=0.1,\n",
       "                                                  loss='deviance', max_depth=3,\n",
       "                                                  max_features=None,\n",
       "                                                  max_leaf_nodes=None,\n",
       "                                                  min_impurity_decrease=0.0,\n",
       "                                                  min_impurity_split=None,\n",
       "                                                  min_samples_leaf=1,\n",
       "                                                  min_samples_split=2,\n",
       "                                                  min_weight_fraction_leaf=0.0,\n",
       "                                                  n_estimators=100,\n",
       "                                                  n_iter_no_c...\n",
       "                                                  verbose=0, warm_start=False),\n",
       "             iid='deprecated', n_jobs=None,\n",
       "             param_grid=[{'learning_rate': [0.01], 'max_depth': range(1, 5),\n",
       "                          'max_features': range(1, 6),\n",
       "                          'min_impurity_decrease': [0.01],\n",
       "                          'min_samples_split': range(2, 6),\n",
       "                          'n_estimators': range(500, 2000, 500),\n",
       "                          'random_state': [42]}],\n",
       "             pre_dispatch='2*n_jobs', refit=True, return_train_score=False,\n",
       "             scoring='accuracy', verbose=0)"
      ]
     },
     "execution_count": 198,
     "metadata": {},
     "output_type": "execute_result"
    }
   ],
   "source": [
    "gbm = GradientBoostingClassifier(random_state = 42) # creating an instance of the Class, GB does not need class weight\n",
    "\n",
    "X = Train_set[['Payment_Total',\n",
    " 'Hos_Stay_Total',\n",
    " 'RenalDisease',\n",
    " 'CDC_42731',\n",
    " 'stroke',\n",
    " 'County_Count',\n",
    " 'CPC_66.0',\n",
    " 'DGC_183',\n",
    " 'DGC_867',\n",
    " 'Heartfailure',\n",
    " 'DGC_204',\n",
    " 'CDC_V5861',\n",
    " 'State_Count']]\n",
    "\n",
    "y = Train_set['PotentialFraud']\n",
    "\n",
    "X_train, X_test, y_train, y_test = train_test_split(X, y, random_state = 42, shuffle = True, test_size = 0.3)\n",
    "\n",
    "X_train = preprocessing.scale(X_train) # scaling the X variables\n",
    "X_test = preprocessing.scale(X_test) # scaling the X variables\n",
    "\n",
    "#########################################################\n",
    "\n",
    "params = [{\n",
    "    \"learning_rate\": [0.01],\n",
    "    \"n_estimators\": range(500, 2000, 500),\n",
    "    \"max_depth\": range(1, 5),\n",
    "    \"max_features\": range(1, 6),  #  sqrt(number of samples) \n",
    "    \"min_impurity_decrease\": [0.01], \n",
    "    \"min_samples_split\": range(2, 6), # having 1 does not make sense, so min starts from 2\n",
    "    \"random_state\": [42] }]\n",
    "\n",
    "gs_gbm = GridSearchCV(gbm, params, cv = 3, scoring = 'accuracy')\n",
    "%time gs_gbm.fit(X_train, y_train)"
   ]
  },
  {
   "cell_type": "code",
   "execution_count": 199,
   "metadata": {},
   "outputs": [
    {
     "name": "stdout",
     "output_type": "stream",
     "text": [
      "Best Params: {'learning_rate': 0.01, 'max_depth': 3, 'max_features': 5, 'min_impurity_decrease': 0.01, 'min_samples_split': 2, 'n_estimators': 1500, 'random_state': 42}\n",
      "Best Score: 0.9371527137317591\n"
     ]
    }
   ],
   "source": [
    "print('Best Params:', gs_gbm.best_params_)\n",
    "print('Best Score:', gs_gbm.best_score_)"
   ]
  },
  {
   "cell_type": "code",
   "execution_count": 200,
   "metadata": {},
   "outputs": [],
   "source": [
    "gbm.set_params(learning_rate = 0.01, max_depth = 3, max_features = 5, min_impurity_decrease = 0.01, \\\n",
    "               min_samples_split = 2, n_estimators = 500, random_state = 42)\n",
    "gbm.fit(X_train, y_train)\n",
    "y_pred = gbm.predict(X_test)"
   ]
  },
  {
   "cell_type": "code",
   "execution_count": 201,
   "metadata": {},
   "outputs": [
    {
     "data": {
      "text/plain": [
       "<bound method BaseEstimator.get_params of GradientBoostingClassifier(ccp_alpha=0.0, criterion='friedman_mse', init=None,\n",
       "                           learning_rate=0.01, loss='deviance', max_depth=3,\n",
       "                           max_features=5, max_leaf_nodes=None,\n",
       "                           min_impurity_decrease=0.01, min_impurity_split=None,\n",
       "                           min_samples_leaf=1, min_samples_split=2,\n",
       "                           min_weight_fraction_leaf=0.0, n_estimators=500,\n",
       "                           n_iter_no_change=None, presort='deprecated',\n",
       "                           random_state=42, subsample=1.0, tol=0.0001,\n",
       "                           validation_fraction=0.1, verbose=0,\n",
       "                           warm_start=False)>"
      ]
     },
     "execution_count": 201,
     "metadata": {},
     "output_type": "execute_result"
    }
   ],
   "source": [
    "gbm.get_params"
   ]
  },
  {
   "cell_type": "code",
   "execution_count": 202,
   "metadata": {
    "scrolled": true
   },
   "outputs": [
    {
     "name": "stdout",
     "output_type": "stream",
     "text": [
      "Train Set Score\n",
      "0.9519408502772643\n",
      " *  *  *  *  *  *  *  *  *  *  *  *  *  *  *  *  *  *  *  *  *  *  *  *  *  *  *  *  *  * \n",
      "Test Set Score\n",
      "0.933456561922366\n",
      " *  *  *  *  *  *  *  *  *  *  *  *  *  *  *  *  *  *  *  *  *  *  *  *  *  *  *  *  *  * \n",
      "Confusion Matrix\n",
      "[[1439   25]\n",
      " [  83   76]]\n",
      " *  *  *  *  *  *  *  *  *  *  *  *  *  *  *  *  *  *  *  *  *  *  *  *  *  *  *  *  *  * \n",
      "Classification Report\n",
      "              precision    recall  f1-score   support\n",
      "\n",
      "           0       0.95      0.98      0.96      1464\n",
      "           1       0.75      0.48      0.58       159\n",
      "\n",
      "    accuracy                           0.93      1623\n",
      "   macro avg       0.85      0.73      0.77      1623\n",
      "weighted avg       0.93      0.93      0.93      1623\n",
      "\n"
     ]
    }
   ],
   "source": [
    "print('Train Set Score')\n",
    "print(gbm.score(X_train, y_train))\n",
    "print(' * '* 30)\n",
    "print('Test Set Score')\n",
    "print(gbm.score(X_test, y_test))\n",
    "print(' * '* 30)\n",
    "print('Confusion Matrix')\n",
    "print(confusion_matrix(y_test, y_pred))\n",
    "print(' * ' * 30)\n",
    "print('Classification Report') \n",
    "print(classification_report(y_test, y_pred))"
   ]
  },
  {
   "cell_type": "code",
   "execution_count": 203,
   "metadata": {
    "scrolled": false
   },
   "outputs": [
    {
     "data": {
      "text/html": [
       "<div>\n",
       "<style scoped>\n",
       "    .dataframe tbody tr th:only-of-type {\n",
       "        vertical-align: middle;\n",
       "    }\n",
       "\n",
       "    .dataframe tbody tr th {\n",
       "        vertical-align: top;\n",
       "    }\n",
       "\n",
       "    .dataframe thead th {\n",
       "        text-align: right;\n",
       "    }\n",
       "</style>\n",
       "<table border=\"1\" class=\"dataframe\">\n",
       "  <thead>\n",
       "    <tr style=\"text-align: right;\">\n",
       "      <th></th>\n",
       "      <th>FeatureName</th>\n",
       "      <th>Importance</th>\n",
       "    </tr>\n",
       "  </thead>\n",
       "  <tbody>\n",
       "    <tr>\n",
       "      <th>0</th>\n",
       "      <td>Payment_Total</td>\n",
       "      <td>0.447989</td>\n",
       "    </tr>\n",
       "    <tr>\n",
       "      <th>1</th>\n",
       "      <td>Hos_Stay_Total</td>\n",
       "      <td>0.243133</td>\n",
       "    </tr>\n",
       "    <tr>\n",
       "      <th>2</th>\n",
       "      <td>CDC_42731</td>\n",
       "      <td>0.101670</td>\n",
       "    </tr>\n",
       "    <tr>\n",
       "      <th>3</th>\n",
       "      <td>RenalDisease</td>\n",
       "      <td>0.050891</td>\n",
       "    </tr>\n",
       "    <tr>\n",
       "      <th>4</th>\n",
       "      <td>stroke</td>\n",
       "      <td>0.044852</td>\n",
       "    </tr>\n",
       "    <tr>\n",
       "      <th>5</th>\n",
       "      <td>CPC_66.0</td>\n",
       "      <td>0.043999</td>\n",
       "    </tr>\n",
       "    <tr>\n",
       "      <th>6</th>\n",
       "      <td>Heartfailure</td>\n",
       "      <td>0.028575</td>\n",
       "    </tr>\n",
       "    <tr>\n",
       "      <th>7</th>\n",
       "      <td>State_Count</td>\n",
       "      <td>0.011767</td>\n",
       "    </tr>\n",
       "  </tbody>\n",
       "</table>\n",
       "</div>"
      ],
      "text/plain": [
       "      FeatureName  Importance\n",
       "0   Payment_Total    0.447989\n",
       "1  Hos_Stay_Total    0.243133\n",
       "2       CDC_42731    0.101670\n",
       "3    RenalDisease    0.050891\n",
       "4          stroke    0.044852\n",
       "5        CPC_66.0    0.043999\n",
       "6    Heartfailure    0.028575\n",
       "7     State_Count    0.011767"
      ]
     },
     "execution_count": 203,
     "metadata": {},
     "output_type": "execute_result"
    }
   ],
   "source": [
    "Feature_Importance6 = pd.DataFrame(sorted(zip(X.columns, gbm.feature_importances_), key=lambda t:t[1], reverse=True), columns = ['FeatureName',  'Importance'])\n",
    "Feature_Importance6.loc[Feature_Importance6.Importance > 0.0099]"
   ]
  },
  {
   "cell_type": "markdown",
   "metadata": {},
   "source": [
    "# Gradient Boosting (All Features)"
   ]
  },
  {
   "cell_type": "code",
   "execution_count": 67,
   "metadata": {},
   "outputs": [
    {
     "name": "stdout",
     "output_type": "stream",
     "text": [
      "CPU times: user 48min 49s, sys: 24.9 s, total: 49min 14s\n",
      "Wall time: 52min 17s\n"
     ]
    },
    {
     "data": {
      "text/plain": [
       "GridSearchCV(cv=3, error_score=nan,\n",
       "             estimator=GradientBoostingClassifier(ccp_alpha=0.0,\n",
       "                                                  criterion='friedman_mse',\n",
       "                                                  init=None, learning_rate=0.1,\n",
       "                                                  loss='deviance', max_depth=3,\n",
       "                                                  max_features=None,\n",
       "                                                  max_leaf_nodes=None,\n",
       "                                                  min_impurity_decrease=0.0,\n",
       "                                                  min_impurity_split=None,\n",
       "                                                  min_samples_leaf=1,\n",
       "                                                  min_samples_split=2,\n",
       "                                                  min_weight_fraction_leaf=0.0,\n",
       "                                                  n_estimators=100,\n",
       "                                                  n_iter_no_c...\n",
       "                                                  verbose=0, warm_start=False),\n",
       "             iid='deprecated', n_jobs=None,\n",
       "             param_grid=[{'learning_rate': [0.01], 'max_depth': range(2, 7),\n",
       "                          'max_features': range(2, 7),\n",
       "                          'min_impurity_decrease': [0.01],\n",
       "                          'min_samples_split': range(2, 6),\n",
       "                          'n_estimators': range(100, 1500, 300),\n",
       "                          'random_state': [42]}],\n",
       "             pre_dispatch='2*n_jobs', refit=True, return_train_score=False,\n",
       "             scoring='accuracy', verbose=0)"
      ]
     },
     "execution_count": 67,
     "metadata": {},
     "output_type": "execute_result"
    }
   ],
   "source": [
    "gbm = GradientBoostingClassifier(random_state = 42) # creating an instance of the Class, GB does not need class weight\n",
    "\n",
    "X = Train_set.drop('PotentialFraud', axis = 1)\n",
    "\n",
    "y = Train_set['PotentialFraud']\n",
    "\n",
    "X_train, X_test, y_train, y_test = train_test_split(X, y, random_state = 42, shuffle = True, test_size = 0.3)\n",
    "\n",
    "X_train = preprocessing.scale(X_train) # scaling the X variables\n",
    "X_test = preprocessing.scale(X_test) # scaling the X variables\n",
    "\n",
    "#########################################################\n",
    "\n",
    "params = [{\n",
    "    \"learning_rate\": [0.01],\n",
    "    \"n_estimators\": range(100, 1500, 300),\n",
    "    \"max_depth\": range(2, 7),\n",
    "    \"max_features\": range(2, 7),  #  sqrt(number of samples) \n",
    "    \"min_impurity_decrease\": [0.01], \n",
    "    \"min_samples_split\": range(2, 6), # having 1 does not make sense, so min starts from 2\n",
    "    \"random_state\": [42] }]\n",
    "\n",
    "gs_gbm = GridSearchCV(gbm, params, cv = 3, scoring = 'accuracy')\n",
    "%time gs_gbm.fit(X_train, y_train)"
   ]
  },
  {
   "cell_type": "code",
   "execution_count": 69,
   "metadata": {},
   "outputs": [
    {
     "name": "stdout",
     "output_type": "stream",
     "text": [
      "Best Params: {'learning_rate': 0.01, 'max_depth': 3, 'max_features': 6, 'min_impurity_decrease': 0.01, 'min_samples_split': 2, 'n_estimators': 400, 'random_state': 42}\n",
      "Best Score: 0.9416425226247135\n"
     ]
    }
   ],
   "source": [
    "print('Best Params:', gs_gbm.best_params_)\n",
    "print('Best Score:', gs_gbm.best_score_)"
   ]
  },
  {
   "cell_type": "code",
   "execution_count": 70,
   "metadata": {},
   "outputs": [],
   "source": [
    "gbm.set_params(learning_rate = 0.01, max_depth = 3, max_features = 6, min_impurity_decrease = 0.01, \\\n",
    "               min_samples_split = 2, n_estimators = 400, random_state = 42)\n",
    "gbm.fit(X_train, y_train)\n",
    "y_pred = gbm.predict(X_test)"
   ]
  },
  {
   "cell_type": "code",
   "execution_count": 71,
   "metadata": {},
   "outputs": [
    {
     "data": {
      "text/plain": [
       "<bound method BaseEstimator.get_params of GradientBoostingClassifier(ccp_alpha=0.0, criterion='friedman_mse', init=None,\n",
       "                           learning_rate=0.01, loss='deviance', max_depth=3,\n",
       "                           max_features=6, max_leaf_nodes=None,\n",
       "                           min_impurity_decrease=0.01, min_impurity_split=None,\n",
       "                           min_samples_leaf=1, min_samples_split=2,\n",
       "                           min_weight_fraction_leaf=0.0, n_estimators=400,\n",
       "                           n_iter_no_change=None, presort='deprecated',\n",
       "                           random_state=42, subsample=1.0, tol=0.0001,\n",
       "                           validation_fraction=0.1, verbose=0,\n",
       "                           warm_start=False)>"
      ]
     },
     "execution_count": 71,
     "metadata": {},
     "output_type": "execute_result"
    }
   ],
   "source": [
    "gbm.get_params"
   ]
  },
  {
   "cell_type": "code",
   "execution_count": 72,
   "metadata": {},
   "outputs": [
    {
     "name": "stdout",
     "output_type": "stream",
     "text": [
      "Train Set Score\n",
      "0.9535252178505413\n",
      " *  *  *  *  *  *  *  *  *  *  *  *  *  *  *  *  *  *  *  *  *  *  *  *  *  *  *  *  *  * \n",
      "Test Set Score\n",
      "0.9205175600739371\n",
      " *  *  *  *  *  *  *  *  *  *  *  *  *  *  *  *  *  *  *  *  *  *  *  *  *  *  *  *  *  * \n",
      "Confusion Matrix\n",
      "[[1416   28]\n",
      " [ 101   78]]\n",
      " *  *  *  *  *  *  *  *  *  *  *  *  *  *  *  *  *  *  *  *  *  *  *  *  *  *  *  *  *  * \n",
      "Classification Report\n",
      "              precision    recall  f1-score   support\n",
      "\n",
      "           0       0.93      0.98      0.96      1444\n",
      "           1       0.74      0.44      0.55       179\n",
      "\n",
      "    accuracy                           0.92      1623\n",
      "   macro avg       0.83      0.71      0.75      1623\n",
      "weighted avg       0.91      0.92      0.91      1623\n",
      "\n"
     ]
    }
   ],
   "source": [
    "print('Train Set Score')\n",
    "print(gbm.score(X_train, y_train))\n",
    "print(' * '* 30)\n",
    "print('Test Set Score')\n",
    "print(gbm.score(X_test, y_test))\n",
    "print(' * '* 30)\n",
    "print('Confusion Matrix')\n",
    "print(confusion_matrix(y_test, y_pred))\n",
    "print(' * ' * 30)\n",
    "print('Classification Report') \n",
    "print(classification_report(y_test, y_pred))"
   ]
  },
  {
   "cell_type": "code",
   "execution_count": 221,
   "metadata": {},
   "outputs": [
    {
     "data": {
      "text/plain": [
       "['Payment_Total',\n",
       " 'Hos_Stay_Total',\n",
       " 'CDC_42731',\n",
       " 'RenalDisease',\n",
       " 'stroke',\n",
       " 'CPC_66.0',\n",
       " 'Heartfailure',\n",
       " 'State_Count',\n",
       " 'CDC_V5861']"
      ]
     },
     "execution_count": 221,
     "metadata": {},
     "output_type": "execute_result"
    }
   ],
   "source": [
    "Feature_Importance7 = pd.DataFrame(sorted(zip(X.columns, gbm.feature_importances_), key=lambda t:t[1], reverse=True), columns = ['FeatureName',  'Importance'])\n",
    "Feature_Importance7.loc[Feature_Importance7.Importance > 0.0099]['FeatureName'].to_list()"
   ]
  },
  {
   "cell_type": "markdown",
   "metadata": {},
   "source": [
    "# Gradient Boosting (Above Features coef > 0.0099)"
   ]
  },
  {
   "cell_type": "code",
   "execution_count": 222,
   "metadata": {},
   "outputs": [
    {
     "name": "stdout",
     "output_type": "stream",
     "text": [
      "CPU times: user 11min 29s, sys: 3.56 s, total: 11min 32s\n",
      "Wall time: 11min 54s\n"
     ]
    },
    {
     "data": {
      "text/plain": [
       "GridSearchCV(cv=3, error_score=nan,\n",
       "             estimator=GradientBoostingClassifier(ccp_alpha=0.0,\n",
       "                                                  criterion='friedman_mse',\n",
       "                                                  init=None, learning_rate=0.1,\n",
       "                                                  loss='deviance', max_depth=3,\n",
       "                                                  max_features=None,\n",
       "                                                  max_leaf_nodes=None,\n",
       "                                                  min_impurity_decrease=0.0,\n",
       "                                                  min_impurity_split=None,\n",
       "                                                  min_samples_leaf=1,\n",
       "                                                  min_samples_split=2,\n",
       "                                                  min_weight_fraction_leaf=0.0,\n",
       "                                                  n_estimators=100,\n",
       "                                                  n_iter_no_c...\n",
       "                                                  validation_fraction=0.1,\n",
       "                                                  verbose=0, warm_start=False),\n",
       "             iid='deprecated', n_jobs=None,\n",
       "             param_grid=[{'learning_rate': [0.01], 'max_depth': range(3, 7),\n",
       "                          'max_features': range(4, 8),\n",
       "                          'min_impurity_decrease': [0.01],\n",
       "                          'min_samples_split': range(2, 5),\n",
       "                          'n_estimators': range(100, 800, 300),\n",
       "                          'random_state': [42]}],\n",
       "             pre_dispatch='2*n_jobs', refit=True, return_train_score=False,\n",
       "             scoring='accuracy', verbose=0)"
      ]
     },
     "execution_count": 222,
     "metadata": {},
     "output_type": "execute_result"
    }
   ],
   "source": [
    "gbm = GradientBoostingClassifier(random_state = 42) # creating an instance of the Class, GB does not need class weight\n",
    "\n",
    "X = Train_set[['Payment_Total',\n",
    " 'Hos_Stay_Total',\n",
    " 'CDC_42731',\n",
    " 'RenalDisease',\n",
    " 'stroke',\n",
    " 'CPC_66.0',\n",
    " 'Heartfailure',\n",
    " 'State_Count',\n",
    " 'CDC_V5861']]\n",
    "\n",
    "y = Train_set['PotentialFraud']\n",
    "\n",
    "X_train, X_test, y_train, y_test = train_test_split(X, y, random_state = 42, shuffle = True, test_size = 0.3)\n",
    "\n",
    "X_train = preprocessing.scale(X_train) # scaling the X variables\n",
    "X_test = preprocessing.scale(X_test) # scaling the X variables\n",
    "\n",
    "#########################################################\n",
    "\n",
    "params = [{\n",
    "    \"learning_rate\": [0.01],\n",
    "    \"n_estimators\": range(100, 800, 300),\n",
    "    \"max_depth\": range(3, 7),\n",
    "    \"max_features\": range(4, 8),  #  sqrt(number of samples) \n",
    "    \"min_impurity_decrease\": [0.01], \n",
    "    \"min_samples_split\": range(2, 5), # having 1 does not make sense, so min starts from 2\n",
    "    \"random_state\": [42] }]\n",
    "\n",
    "gs_gbm = GridSearchCV(gbm, params, cv = 3, scoring = 'accuracy')\n",
    "%time gs_gbm.fit(X_train, y_train)"
   ]
  },
  {
   "cell_type": "code",
   "execution_count": 223,
   "metadata": {},
   "outputs": [
    {
     "name": "stdout",
     "output_type": "stream",
     "text": [
      "Best Params: {'learning_rate': 0.01, 'max_depth': 3, 'max_features': 4, 'min_impurity_decrease': 0.01, 'min_samples_split': 2, 'n_estimators': 700, 'random_state': 42}\n",
      "Best Score: 0.9350402930494855\n"
     ]
    }
   ],
   "source": [
    "print('Best Params:', gs_gbm.best_params_)\n",
    "print('Best Score:', gs_gbm.best_score_)"
   ]
  },
  {
   "cell_type": "code",
   "execution_count": 224,
   "metadata": {},
   "outputs": [],
   "source": [
    "gbm.set_params(learning_rate = 0.01, max_depth = 3, max_features = 4, min_impurity_decrease = 0.01, \\\n",
    "               min_samples_split = 2, n_estimators = 700, random_state = 42)\n",
    "\n",
    "gbm.fit(X_train, y_train)\n",
    "y_pred = gbm.predict(X_test)"
   ]
  },
  {
   "cell_type": "code",
   "execution_count": 225,
   "metadata": {},
   "outputs": [
    {
     "name": "stdout",
     "output_type": "stream",
     "text": [
      "Train Set Score\n",
      "0.9548455241616055\n",
      " *  *  *  *  *  *  *  *  *  *  *  *  *  *  *  *  *  *  *  *  *  *  *  *  *  *  *  *  *  * \n",
      "Test Set Score\n",
      "0.9328404189772027\n",
      " *  *  *  *  *  *  *  *  *  *  *  *  *  *  *  *  *  *  *  *  *  *  *  *  *  *  *  *  *  * \n",
      "Confusion Matrix\n",
      "[[1435   29]\n",
      " [  80   79]]\n",
      " *  *  *  *  *  *  *  *  *  *  *  *  *  *  *  *  *  *  *  *  *  *  *  *  *  *  *  *  *  * \n",
      "Classification Report\n",
      "              precision    recall  f1-score   support\n",
      "\n",
      "           0       0.95      0.98      0.96      1464\n",
      "           1       0.73      0.50      0.59       159\n",
      "\n",
      "    accuracy                           0.93      1623\n",
      "   macro avg       0.84      0.74      0.78      1623\n",
      "weighted avg       0.93      0.93      0.93      1623\n",
      "\n"
     ]
    }
   ],
   "source": [
    "print('Train Set Score')\n",
    "print(gbm.score(X_train, y_train))\n",
    "print(' * '* 30)\n",
    "print('Test Set Score')\n",
    "print(gbm.score(X_test, y_test))\n",
    "print(' * '* 30)\n",
    "print('Confusion Matrix')\n",
    "print(confusion_matrix(y_test, y_pred))\n",
    "print(' * ' * 30)\n",
    "print('Classification Report') \n",
    "print(classification_report(y_test, y_pred))"
   ]
  },
  {
   "cell_type": "code",
   "execution_count": 226,
   "metadata": {},
   "outputs": [
    {
     "data": {
      "text/plain": [
       "0     Payment_Total\n",
       "1    Hos_Stay_Total\n",
       "2         CDC_42731\n",
       "3      RenalDisease\n",
       "4          CPC_66.0\n",
       "5            stroke\n",
       "6      Heartfailure\n",
       "7       State_Count\n",
       "Name: FeatureName, dtype: object"
      ]
     },
     "execution_count": 226,
     "metadata": {},
     "output_type": "execute_result"
    }
   ],
   "source": [
    "Feature_Importance7 = pd.DataFrame(sorted(zip(X.columns, gbm.feature_importances_), key=lambda t:t[1], reverse=True), columns = ['FeatureName',  'Importance'])\n",
    "Feature_Importance7.loc[Feature_Importance7.Importance > 0.0099]['FeatureName']"
   ]
  },
  {
   "cell_type": "markdown",
   "metadata": {},
   "source": [
    "# Support Vector Machines (Lasso Features)"
   ]
  },
  {
   "cell_type": "code",
   "execution_count": 215,
   "metadata": {
    "scrolled": true
   },
   "outputs": [
    {
     "name": "stdout",
     "output_type": "stream",
     "text": [
      "CPU times: user 4.69 s, sys: 33.7 ms, total: 4.73 s\n",
      "Wall time: 4.85 s\n"
     ]
    },
    {
     "data": {
      "text/plain": [
       "GridSearchCV(cv=3, error_score=nan,\n",
       "             estimator=SVC(C=1.0, break_ties=False, cache_size=200,\n",
       "                           class_weight='balanced', coef0=0.0,\n",
       "                           decision_function_shape='ovr', degree=3,\n",
       "                           gamma='scale', kernel='linear', max_iter=-1,\n",
       "                           probability=False, random_state=42, shrinking=True,\n",
       "                           tol=0.001, verbose=False),\n",
       "             iid='deprecated', n_jobs=None,\n",
       "             param_grid={'C': [0.1, 0.2, 0.3, 0.4, 0.5, 0.6, 0.7, 0.8, 0.9, 1]},\n",
       "             pre_dispatch='2*n_jobs', refit=True, return_train_score=False,\n",
       "             scoring='accuracy', verbose=0)"
      ]
     },
     "execution_count": 215,
     "metadata": {},
     "output_type": "execute_result"
    }
   ],
   "source": [
    "svc = SVC(kernel='linear', class_weight = 'balanced', random_state = 42)\n",
    "\n",
    "X = Train_set[['Payment_Total',\n",
    " 'Hos_Stay_Total',\n",
    " 'RenalDisease',\n",
    " 'CDC_42731',\n",
    " 'stroke',\n",
    " 'County_Count',\n",
    " 'CPC_66.0',\n",
    " 'DGC_183',\n",
    " 'DGC_867',\n",
    " 'Heartfailure',\n",
    " 'DGC_204',\n",
    " 'CDC_V5861',\n",
    " 'State_Count']]\n",
    "\n",
    "y = Train_set['PotentialFraud']\n",
    "\n",
    "X_train, X_test, y_train, y_test = train_test_split(X, y, random_state = 42, shuffle = True, test_size = 0.3)\n",
    "\n",
    "X_train = preprocessing.scale(X_train) # scaling the X variables\n",
    "X_test = preprocessing.scale(X_test) # scaling the X variables\n",
    "\n",
    "##############################################################\n",
    "\n",
    "grid_params = {'C': [ 0.1, 0.2, 0.3, 0.4, 0.5, 0.6, 0.7, 0.8, 0.9, 1]}\n",
    "\n",
    "gs_svc = GridSearchCV(svc, grid_params, cv = 3, scoring = 'accuracy')\n",
    "%time gs_svc.fit(X_train, y_train)"
   ]
  },
  {
   "cell_type": "code",
   "execution_count": 216,
   "metadata": {},
   "outputs": [
    {
     "name": "stdout",
     "output_type": "stream",
     "text": [
      "Best Params: {'C': 0.3}\n",
      "Best Score: 0.891999486377072\n"
     ]
    }
   ],
   "source": [
    "print('Best Params:', gs_svc.best_params_)\n",
    "print('Best Score:', gs_svc.best_score_)"
   ]
  },
  {
   "cell_type": "code",
   "execution_count": 217,
   "metadata": {},
   "outputs": [],
   "source": [
    "svc.set_params(kernel='linear', class_weight = 'balanced', random_state = 42, C = 0.3)\n",
    "svc.fit(X_train, y_train)\n",
    "y_pred = svc.predict(X_test)"
   ]
  },
  {
   "cell_type": "code",
   "execution_count": 85,
   "metadata": {},
   "outputs": [
    {
     "name": "stdout",
     "output_type": "stream",
     "text": [
      "Index of support vector: [   0   13   15 ... 3699 3700 3780]\n"
     ]
    }
   ],
   "source": [
    "svc_index = svc.support_ # index of support vector\n",
    "print('Index of support vector: ' + str(svc_index))"
   ]
  },
  {
   "cell_type": "code",
   "execution_count": 219,
   "metadata": {
    "scrolled": false
   },
   "outputs": [
    {
     "name": "stdout",
     "output_type": "stream",
     "text": [
      "Train Set Score\n",
      "0.8941114338526538\n",
      " *  *  *  *  *  *  *  *  *  *  *  *  *  *  *  *  *  *  *  *  *  *  *  *  *  *  *  *  *  * \n",
      "Test Set Score\n",
      "0.893407270486753\n",
      " *  *  *  *  *  *  *  *  *  *  *  *  *  *  *  *  *  *  *  *  *  *  *  *  *  *  *  *  *  * \n",
      "Confusion Matrix\n",
      "[[1326  138]\n",
      " [  35  124]]\n",
      " *  *  *  *  *  *  *  *  *  *  *  *  *  *  *  *  *  *  *  *  *  *  *  *  *  *  *  *  *  * \n",
      "Classification Report\n",
      "              precision    recall  f1-score   support\n",
      "\n",
      "           0       0.97      0.91      0.94      1464\n",
      "           1       0.47      0.78      0.59       159\n",
      "\n",
      "    accuracy                           0.89      1623\n",
      "   macro avg       0.72      0.84      0.76      1623\n",
      "weighted avg       0.93      0.89      0.90      1623\n",
      "\n"
     ]
    }
   ],
   "source": [
    "print('Train Set Score')\n",
    "print(svc.score(X_train, y_train))\n",
    "print(' * '* 30)\n",
    "print('Test Set Score')\n",
    "print(gs_svc.score(X_test, y_test))\n",
    "print(' * '* 30)\n",
    "print('Confusion Matrix')\n",
    "print(confusion_matrix(y_test, y_pred))\n",
    "print(' * ' * 30)\n",
    "print('Classification Report') \n",
    "print(classification_report(y_test, y_pred))"
   ]
  },
  {
   "cell_type": "code",
   "execution_count": 220,
   "metadata": {},
   "outputs": [
    {
     "data": {
      "text/html": [
       "<div>\n",
       "<style scoped>\n",
       "    .dataframe tbody tr th:only-of-type {\n",
       "        vertical-align: middle;\n",
       "    }\n",
       "\n",
       "    .dataframe tbody tr th {\n",
       "        vertical-align: top;\n",
       "    }\n",
       "\n",
       "    .dataframe thead th {\n",
       "        text-align: right;\n",
       "    }\n",
       "</style>\n",
       "<table border=\"1\" class=\"dataframe\">\n",
       "  <thead>\n",
       "    <tr style=\"text-align: right;\">\n",
       "      <th></th>\n",
       "      <th>index</th>\n",
       "      <th>Coefficients</th>\n",
       "    </tr>\n",
       "  </thead>\n",
       "  <tbody>\n",
       "    <tr>\n",
       "      <th>0</th>\n",
       "      <td>Payment_Total</td>\n",
       "      <td>1.523955</td>\n",
       "    </tr>\n",
       "    <tr>\n",
       "      <th>1</th>\n",
       "      <td>Hos_Stay_Total</td>\n",
       "      <td>1.174641</td>\n",
       "    </tr>\n",
       "    <tr>\n",
       "      <th>2</th>\n",
       "      <td>RenalDisease</td>\n",
       "      <td>0.331702</td>\n",
       "    </tr>\n",
       "    <tr>\n",
       "      <th>3</th>\n",
       "      <td>CDC_42731</td>\n",
       "      <td>0.283980</td>\n",
       "    </tr>\n",
       "    <tr>\n",
       "      <th>4</th>\n",
       "      <td>stroke</td>\n",
       "      <td>0.248491</td>\n",
       "    </tr>\n",
       "    <tr>\n",
       "      <th>5</th>\n",
       "      <td>CPC_66.0</td>\n",
       "      <td>0.182121</td>\n",
       "    </tr>\n",
       "    <tr>\n",
       "      <th>6</th>\n",
       "      <td>DGC_183</td>\n",
       "      <td>0.130161</td>\n",
       "    </tr>\n",
       "    <tr>\n",
       "      <th>7</th>\n",
       "      <td>DGC_867</td>\n",
       "      <td>0.077975</td>\n",
       "    </tr>\n",
       "    <tr>\n",
       "      <th>8</th>\n",
       "      <td>DGC_204</td>\n",
       "      <td>0.028054</td>\n",
       "    </tr>\n",
       "  </tbody>\n",
       "</table>\n",
       "</div>"
      ],
      "text/plain": [
       "            index  Coefficients\n",
       "0   Payment_Total      1.523955\n",
       "1  Hos_Stay_Total      1.174641\n",
       "2    RenalDisease      0.331702\n",
       "3       CDC_42731      0.283980\n",
       "4          stroke      0.248491\n",
       "5        CPC_66.0      0.182121\n",
       "6         DGC_183      0.130161\n",
       "7         DGC_867      0.077975\n",
       "8         DGC_204      0.028054"
      ]
     },
     "execution_count": 220,
     "metadata": {},
     "output_type": "execute_result"
    }
   ],
   "source": [
    "Feature_Importance8 = pd.DataFrame(np.column_stack(lm.coef_ ), index = X.columns, columns = ['Coefficients']).\\\n",
    "sort_values(ascending = False, by = 'Coefficients').reset_index()\n",
    "Feature_Importance8.loc[Feature_Importance8.Coefficients > 0]"
   ]
  },
  {
   "cell_type": "markdown",
   "metadata": {},
   "source": [
    "# Support Vector (All Features)"
   ]
  },
  {
   "cell_type": "code",
   "execution_count": 209,
   "metadata": {},
   "outputs": [
    {
     "name": "stdout",
     "output_type": "stream",
     "text": [
      "CPU times: user 13.7 s, sys: 91.6 ms, total: 13.8 s\n",
      "Wall time: 14.3 s\n"
     ]
    },
    {
     "data": {
      "text/plain": [
       "GridSearchCV(cv=3, error_score=nan,\n",
       "             estimator=SVC(C=1.0, break_ties=False, cache_size=200,\n",
       "                           class_weight='balanced', coef0=0.0,\n",
       "                           decision_function_shape='ovr', degree=3,\n",
       "                           gamma='scale', kernel='linear', max_iter=-1,\n",
       "                           probability=False, random_state=42, shrinking=True,\n",
       "                           tol=0.001, verbose=False),\n",
       "             iid='deprecated', n_jobs=None,\n",
       "             param_grid={'C': [0.1, 0.2, 0.3, 0.4, 0.5, 0.6, 0.7, 0.8, 0.9, 1]},\n",
       "             pre_dispatch='2*n_jobs', refit=True, return_train_score=False,\n",
       "             scoring='accuracy', verbose=0)"
      ]
     },
     "execution_count": 209,
     "metadata": {},
     "output_type": "execute_result"
    }
   ],
   "source": [
    "svc = SVC(kernel='linear', class_weight = 'balanced', random_state = 42)\n",
    "\n",
    "X = Train_set.drop('PotentialFraud', axis = 1)\n",
    "\n",
    "y = Train_set['PotentialFraud']\n",
    "\n",
    "X_train, X_test, y_train, y_test = train_test_split(X, y, random_state = 42, shuffle = True, test_size = 0.3)\n",
    "\n",
    "X_train = preprocessing.scale(X_train) # scaling the X variables\n",
    "X_test = preprocessing.scale(X_test) # scaling the X variables\n",
    "\n",
    "##############################################################\n",
    "\n",
    "grid_params = {'C': [ 0.1, 0.2, 0.3, 0.4, 0.5, 0.6, 0.7, 0.8, 0.9, 1]}\n",
    "\n",
    "gs_svc = GridSearchCV(svc, grid_params, cv = 3, scoring = 'accuracy')\n",
    "%time gs_svc.fit(X_train, y_train)"
   ]
  },
  {
   "cell_type": "code",
   "execution_count": 210,
   "metadata": {},
   "outputs": [
    {
     "name": "stdout",
     "output_type": "stream",
     "text": [
      "Best Params: {'C': 0.1}\n",
      "Best Score: 0.8896256533739546\n"
     ]
    }
   ],
   "source": [
    "print('Best Params:', gs_svc.best_params_)\n",
    "print('Best Score:', gs_svc.best_score_)"
   ]
  },
  {
   "cell_type": "code",
   "execution_count": 211,
   "metadata": {},
   "outputs": [],
   "source": [
    "svc.set_params(kernel='linear', class_weight = 'balanced', random_state = 42, C = 0.1)\n",
    "svc.fit(X_train, y_train)\n",
    "y_pred = svc.predict(X_test)"
   ]
  },
  {
   "cell_type": "code",
   "execution_count": 212,
   "metadata": {},
   "outputs": [
    {
     "data": {
      "text/plain": [
       "<bound method BaseEstimator.get_params of SVC(C=0.1, break_ties=False, cache_size=200, class_weight='balanced', coef0=0.0,\n",
       "    decision_function_shape='ovr', degree=3, gamma='scale', kernel='linear',\n",
       "    max_iter=-1, probability=False, random_state=42, shrinking=True, tol=0.001,\n",
       "    verbose=False)>"
      ]
     },
     "execution_count": 212,
     "metadata": {},
     "output_type": "execute_result"
    }
   ],
   "source": [
    "svc.get_params"
   ]
  },
  {
   "cell_type": "code",
   "execution_count": 213,
   "metadata": {},
   "outputs": [
    {
     "name": "stdout",
     "output_type": "stream",
     "text": [
      "Train Set Score\n",
      "0.8980723527858463\n",
      " *  *  *  *  *  *  *  *  *  *  *  *  *  *  *  *  *  *  *  *  *  *  *  *  *  *  *  *  *  * \n",
      "Test Set Score\n",
      "0.88909426987061\n",
      " *  *  *  *  *  *  *  *  *  *  *  *  *  *  *  *  *  *  *  *  *  *  *  *  *  *  *  *  *  * \n",
      "Confusion Matrix\n",
      "[[1316  148]\n",
      " [  32  127]]\n",
      " *  *  *  *  *  *  *  *  *  *  *  *  *  *  *  *  *  *  *  *  *  *  *  *  *  *  *  *  *  * \n",
      "Classification Report\n",
      "              precision    recall  f1-score   support\n",
      "\n",
      "           0       0.98      0.90      0.94      1464\n",
      "           1       0.46      0.80      0.59       159\n",
      "\n",
      "    accuracy                           0.89      1623\n",
      "   macro avg       0.72      0.85      0.76      1623\n",
      "weighted avg       0.93      0.89      0.90      1623\n",
      "\n"
     ]
    }
   ],
   "source": [
    "print('Train Set Score')\n",
    "print(svc.score(X_train, y_train))\n",
    "print(' * '* 30)\n",
    "print('Test Set Score')\n",
    "print(gs_svc.score(X_test, y_test))\n",
    "print(' * '* 30)\n",
    "print('Confusion Matrix')\n",
    "print(confusion_matrix(y_test, y_pred))\n",
    "print(' * ' * 30)\n",
    "print('Classification Report') \n",
    "print(classification_report(y_test, y_pred))"
   ]
  },
  {
   "cell_type": "code",
   "execution_count": 214,
   "metadata": {
    "scrolled": true
   },
   "outputs": [
    {
     "data": {
      "text/html": [
       "<div>\n",
       "<style scoped>\n",
       "    .dataframe tbody tr th:only-of-type {\n",
       "        vertical-align: middle;\n",
       "    }\n",
       "\n",
       "    .dataframe tbody tr th {\n",
       "        vertical-align: top;\n",
       "    }\n",
       "\n",
       "    .dataframe thead th {\n",
       "        text-align: right;\n",
       "    }\n",
       "</style>\n",
       "<table border=\"1\" class=\"dataframe\">\n",
       "  <thead>\n",
       "    <tr style=\"text-align: right;\">\n",
       "      <th></th>\n",
       "      <th>index</th>\n",
       "      <th>Coefficients</th>\n",
       "    </tr>\n",
       "  </thead>\n",
       "  <tbody>\n",
       "    <tr>\n",
       "      <th>0</th>\n",
       "      <td>Payment_Total</td>\n",
       "      <td>1.690207</td>\n",
       "    </tr>\n",
       "    <tr>\n",
       "      <th>1</th>\n",
       "      <td>Hos_Stay_Total</td>\n",
       "      <td>1.268199</td>\n",
       "    </tr>\n",
       "    <tr>\n",
       "      <th>2</th>\n",
       "      <td>RenalDisease</td>\n",
       "      <td>0.609172</td>\n",
       "    </tr>\n",
       "    <tr>\n",
       "      <th>3</th>\n",
       "      <td>Heartfailure</td>\n",
       "      <td>0.544586</td>\n",
       "    </tr>\n",
       "    <tr>\n",
       "      <th>4</th>\n",
       "      <td>CDC_42731</td>\n",
       "      <td>0.435231</td>\n",
       "    </tr>\n",
       "    <tr>\n",
       "      <th>5</th>\n",
       "      <td>Depression</td>\n",
       "      <td>0.339597</td>\n",
       "    </tr>\n",
       "    <tr>\n",
       "      <th>6</th>\n",
       "      <td>Diabetes</td>\n",
       "      <td>0.302106</td>\n",
       "    </tr>\n",
       "    <tr>\n",
       "      <th>7</th>\n",
       "      <td>stroke</td>\n",
       "      <td>0.259657</td>\n",
       "    </tr>\n",
       "    <tr>\n",
       "      <th>8</th>\n",
       "      <td>Cancer</td>\n",
       "      <td>0.216106</td>\n",
       "    </tr>\n",
       "    <tr>\n",
       "      <th>9</th>\n",
       "      <td>CDC_V5861</td>\n",
       "      <td>0.209837</td>\n",
       "    </tr>\n",
       "    <tr>\n",
       "      <th>10</th>\n",
       "      <td>IschemicHeart</td>\n",
       "      <td>0.192386</td>\n",
       "    </tr>\n",
       "    <tr>\n",
       "      <th>11</th>\n",
       "      <td>KidneyDisease</td>\n",
       "      <td>0.178855</td>\n",
       "    </tr>\n",
       "    <tr>\n",
       "      <th>12</th>\n",
       "      <td>CDC_4011</td>\n",
       "      <td>0.168402</td>\n",
       "    </tr>\n",
       "    <tr>\n",
       "      <th>13</th>\n",
       "      <td>CDC_2449</td>\n",
       "      <td>0.162476</td>\n",
       "    </tr>\n",
       "    <tr>\n",
       "      <th>14</th>\n",
       "      <td>County_Count</td>\n",
       "      <td>0.138020</td>\n",
       "    </tr>\n",
       "    <tr>\n",
       "      <th>15</th>\n",
       "      <td>Osteoporasis</td>\n",
       "      <td>0.119739</td>\n",
       "    </tr>\n",
       "    <tr>\n",
       "      <th>16</th>\n",
       "      <td>Age(26-40)</td>\n",
       "      <td>0.097860</td>\n",
       "    </tr>\n",
       "    <tr>\n",
       "      <th>17</th>\n",
       "      <td>DGC_867</td>\n",
       "      <td>0.097147</td>\n",
       "    </tr>\n",
       "    <tr>\n",
       "      <th>18</th>\n",
       "      <td>DGC_939</td>\n",
       "      <td>0.093217</td>\n",
       "    </tr>\n",
       "    <tr>\n",
       "      <th>19</th>\n",
       "      <td>ObstrPulmonary</td>\n",
       "      <td>0.089805</td>\n",
       "    </tr>\n",
       "    <tr>\n",
       "      <th>20</th>\n",
       "      <td>DGC_883</td>\n",
       "      <td>0.086385</td>\n",
       "    </tr>\n",
       "    <tr>\n",
       "      <th>21</th>\n",
       "      <td>CPC_8151.0</td>\n",
       "      <td>0.086204</td>\n",
       "    </tr>\n",
       "    <tr>\n",
       "      <th>22</th>\n",
       "      <td>CPC_66.0</td>\n",
       "      <td>0.085350</td>\n",
       "    </tr>\n",
       "    <tr>\n",
       "      <th>23</th>\n",
       "      <td>DGC_204</td>\n",
       "      <td>0.080336</td>\n",
       "    </tr>\n",
       "    <tr>\n",
       "      <th>24</th>\n",
       "      <td>CPC_3995.0</td>\n",
       "      <td>0.078119</td>\n",
       "    </tr>\n",
       "    <tr>\n",
       "      <th>25</th>\n",
       "      <td>State_Count</td>\n",
       "      <td>0.076416</td>\n",
       "    </tr>\n",
       "    <tr>\n",
       "      <th>26</th>\n",
       "      <td>CPC_2724.0</td>\n",
       "      <td>0.074967</td>\n",
       "    </tr>\n",
       "    <tr>\n",
       "      <th>27</th>\n",
       "      <td>CPC_8154.0</td>\n",
       "      <td>0.060332</td>\n",
       "    </tr>\n",
       "    <tr>\n",
       "      <th>28</th>\n",
       "      <td>Race_Hispanic</td>\n",
       "      <td>0.053818</td>\n",
       "    </tr>\n",
       "    <tr>\n",
       "      <th>29</th>\n",
       "      <td>DGC_887</td>\n",
       "      <td>0.048341</td>\n",
       "    </tr>\n",
       "    <tr>\n",
       "      <th>30</th>\n",
       "      <td>Race_Black</td>\n",
       "      <td>0.028639</td>\n",
       "    </tr>\n",
       "    <tr>\n",
       "      <th>31</th>\n",
       "      <td>DGC_183</td>\n",
       "      <td>0.028103</td>\n",
       "    </tr>\n",
       "  </tbody>\n",
       "</table>\n",
       "</div>"
      ],
      "text/plain": [
       "             index  Coefficients\n",
       "0    Payment_Total      1.690207\n",
       "1   Hos_Stay_Total      1.268199\n",
       "2     RenalDisease      0.609172\n",
       "3     Heartfailure      0.544586\n",
       "4        CDC_42731      0.435231\n",
       "5       Depression      0.339597\n",
       "6         Diabetes      0.302106\n",
       "7           stroke      0.259657\n",
       "8           Cancer      0.216106\n",
       "9        CDC_V5861      0.209837\n",
       "10   IschemicHeart      0.192386\n",
       "11   KidneyDisease      0.178855\n",
       "12        CDC_4011      0.168402\n",
       "13        CDC_2449      0.162476\n",
       "14    County_Count      0.138020\n",
       "15    Osteoporasis      0.119739\n",
       "16      Age(26-40)      0.097860\n",
       "17         DGC_867      0.097147\n",
       "18         DGC_939      0.093217\n",
       "19  ObstrPulmonary      0.089805\n",
       "20         DGC_883      0.086385\n",
       "21      CPC_8151.0      0.086204\n",
       "22        CPC_66.0      0.085350\n",
       "23         DGC_204      0.080336\n",
       "24      CPC_3995.0      0.078119\n",
       "25     State_Count      0.076416\n",
       "26      CPC_2724.0      0.074967\n",
       "27      CPC_8154.0      0.060332\n",
       "28   Race_Hispanic      0.053818\n",
       "29         DGC_887      0.048341\n",
       "30      Race_Black      0.028639\n",
       "31         DGC_183      0.028103"
      ]
     },
     "execution_count": 214,
     "metadata": {},
     "output_type": "execute_result"
    }
   ],
   "source": [
    "Feature_Importance9 = pd.DataFrame(np.column_stack(svc.coef_ ), index = X.columns, columns = ['Coefficients']).\\\n",
    "sort_values(ascending = False, by = 'Coefficients').reset_index()\n",
    "Feature_Importance9.loc[Feature_Importance9.Coefficients > 0]"
   ]
  },
  {
   "cell_type": "markdown",
   "metadata": {},
   "source": [
    "# Suppport Vectors (Above Features with coef >0.0099)"
   ]
  },
  {
   "cell_type": "code",
   "execution_count": 227,
   "metadata": {},
   "outputs": [
    {
     "name": "stdout",
     "output_type": "stream",
     "text": [
      "CPU times: user 4.56 s, sys: 20.5 ms, total: 4.58 s\n",
      "Wall time: 4.6 s\n"
     ]
    },
    {
     "data": {
      "text/plain": [
       "GridSearchCV(cv=3, error_score=nan,\n",
       "             estimator=SVC(C=1.0, break_ties=False, cache_size=200,\n",
       "                           class_weight='balanced', coef0=0.0,\n",
       "                           decision_function_shape='ovr', degree=3,\n",
       "                           gamma='scale', kernel='linear', max_iter=-1,\n",
       "                           probability=False, random_state=42, shrinking=True,\n",
       "                           tol=0.001, verbose=False),\n",
       "             iid='deprecated', n_jobs=None,\n",
       "             param_grid={'C': [0.1, 0.2, 0.3, 0.4, 0.5, 0.6, 0.7, 0.8, 0.9, 1]},\n",
       "             pre_dispatch='2*n_jobs', refit=True, return_train_score=False,\n",
       "             scoring='accuracy', verbose=0)"
      ]
     },
     "execution_count": 227,
     "metadata": {},
     "output_type": "execute_result"
    }
   ],
   "source": [
    "svc = SVC(kernel='linear', class_weight = 'balanced', random_state = 42)\n",
    "\n",
    "X = Train_set[['Payment_Total',\n",
    " 'Hos_Stay_Total',\n",
    " 'RenalDisease',\n",
    " 'CDC_42731',\n",
    " 'stroke',\n",
    " 'County_Count',\n",
    " 'CPC_66.0',\n",
    " 'DGC_183',\n",
    " 'DGC_867',\n",
    " 'Heartfailure',\n",
    " 'DGC_204',\n",
    " 'CDC_V5861',\n",
    " 'State_Count']]\n",
    "\n",
    "y = Train_set['PotentialFraud']\n",
    "\n",
    "X_train, X_test, y_train, y_test = train_test_split(X, y, random_state = 42, shuffle = True, test_size = 0.3)\n",
    "\n",
    "X_train = preprocessing.scale(X_train) # scaling the X variables\n",
    "X_test = preprocessing.scale(X_test) # scaling the X variables\n",
    "\n",
    "##############################################################\n",
    "\n",
    "grid_params = {'C': [ 0.1, 0.2, 0.3, 0.4, 0.5, 0.6, 0.7, 0.8, 0.9, 1]}\n",
    "\n",
    "gs_svc = GridSearchCV(svc, grid_params, cv = 3, scoring = 'accuracy')\n",
    "%time gs_svc.fit(X_train, y_train)"
   ]
  },
  {
   "cell_type": "code",
   "execution_count": 228,
   "metadata": {},
   "outputs": [
    {
     "name": "stdout",
     "output_type": "stream",
     "text": [
      "Best Params: {'C': 0.3}\n",
      "Best Score: 0.891999486377072\n"
     ]
    }
   ],
   "source": [
    "print('Best Params:', gs_svc.best_params_)\n",
    "print('Best Score:', gs_svc.best_score_)"
   ]
  },
  {
   "cell_type": "code",
   "execution_count": 229,
   "metadata": {},
   "outputs": [],
   "source": [
    "svc.set_params(kernel='linear', class_weight = 'balanced', random_state = 42, C = 0.3)\n",
    "svc.fit(X_train, y_train)\n",
    "y_pred = svc.predict(X_test)"
   ]
  },
  {
   "cell_type": "code",
   "execution_count": 230,
   "metadata": {},
   "outputs": [
    {
     "name": "stdout",
     "output_type": "stream",
     "text": [
      "Train Set Score\n",
      "0.8941114338526538\n",
      " *  *  *  *  *  *  *  *  *  *  *  *  *  *  *  *  *  *  *  *  *  *  *  *  *  *  *  *  *  * \n",
      "Test Set Score\n",
      "0.893407270486753\n",
      " *  *  *  *  *  *  *  *  *  *  *  *  *  *  *  *  *  *  *  *  *  *  *  *  *  *  *  *  *  * \n",
      "Confusion Matrix\n",
      "[[1326  138]\n",
      " [  35  124]]\n",
      " *  *  *  *  *  *  *  *  *  *  *  *  *  *  *  *  *  *  *  *  *  *  *  *  *  *  *  *  *  * \n",
      "Classification Report\n",
      "              precision    recall  f1-score   support\n",
      "\n",
      "           0       0.97      0.91      0.94      1464\n",
      "           1       0.47      0.78      0.59       159\n",
      "\n",
      "    accuracy                           0.89      1623\n",
      "   macro avg       0.72      0.84      0.76      1623\n",
      "weighted avg       0.93      0.89      0.90      1623\n",
      "\n"
     ]
    }
   ],
   "source": [
    "print('Train Set Score')\n",
    "print(svc.score(X_train, y_train))\n",
    "print(' * '* 30)\n",
    "print('Test Set Score')\n",
    "print(gs_svc.score(X_test, y_test))\n",
    "print(' * '* 30)\n",
    "print('Confusion Matrix')\n",
    "print(confusion_matrix(y_test, y_pred))\n",
    "print(' * ' * 30)\n",
    "print('Classification Report') \n",
    "print(classification_report(y_test, y_pred))"
   ]
  },
  {
   "cell_type": "code",
   "execution_count": 232,
   "metadata": {},
   "outputs": [
    {
     "data": {
      "text/html": [
       "<div>\n",
       "<style scoped>\n",
       "    .dataframe tbody tr th:only-of-type {\n",
       "        vertical-align: middle;\n",
       "    }\n",
       "\n",
       "    .dataframe tbody tr th {\n",
       "        vertical-align: top;\n",
       "    }\n",
       "\n",
       "    .dataframe thead th {\n",
       "        text-align: right;\n",
       "    }\n",
       "</style>\n",
       "<table border=\"1\" class=\"dataframe\">\n",
       "  <thead>\n",
       "    <tr style=\"text-align: right;\">\n",
       "      <th></th>\n",
       "      <th>index</th>\n",
       "      <th>Coefficients</th>\n",
       "    </tr>\n",
       "  </thead>\n",
       "  <tbody>\n",
       "    <tr>\n",
       "      <th>0</th>\n",
       "      <td>Payment_Total</td>\n",
       "      <td>1.250187</td>\n",
       "    </tr>\n",
       "    <tr>\n",
       "      <th>1</th>\n",
       "      <td>Hos_Stay_Total</td>\n",
       "      <td>0.825250</td>\n",
       "    </tr>\n",
       "    <tr>\n",
       "      <th>2</th>\n",
       "      <td>RenalDisease</td>\n",
       "      <td>0.416908</td>\n",
       "    </tr>\n",
       "    <tr>\n",
       "      <th>3</th>\n",
       "      <td>stroke</td>\n",
       "      <td>0.229584</td>\n",
       "    </tr>\n",
       "    <tr>\n",
       "      <th>4</th>\n",
       "      <td>DGC_183</td>\n",
       "      <td>0.182224</td>\n",
       "    </tr>\n",
       "    <tr>\n",
       "      <th>5</th>\n",
       "      <td>CDC_42731</td>\n",
       "      <td>0.163433</td>\n",
       "    </tr>\n",
       "    <tr>\n",
       "      <th>6</th>\n",
       "      <td>CPC_66.0</td>\n",
       "      <td>0.153575</td>\n",
       "    </tr>\n",
       "    <tr>\n",
       "      <th>7</th>\n",
       "      <td>DGC_867</td>\n",
       "      <td>0.068636</td>\n",
       "    </tr>\n",
       "    <tr>\n",
       "      <th>8</th>\n",
       "      <td>CDC_V5861</td>\n",
       "      <td>0.054678</td>\n",
       "    </tr>\n",
       "    <tr>\n",
       "      <th>9</th>\n",
       "      <td>County_Count</td>\n",
       "      <td>0.017492</td>\n",
       "    </tr>\n",
       "  </tbody>\n",
       "</table>\n",
       "</div>"
      ],
      "text/plain": [
       "            index  Coefficients\n",
       "0   Payment_Total      1.250187\n",
       "1  Hos_Stay_Total      0.825250\n",
       "2    RenalDisease      0.416908\n",
       "3          stroke      0.229584\n",
       "4         DGC_183      0.182224\n",
       "5       CDC_42731      0.163433\n",
       "6        CPC_66.0      0.153575\n",
       "7         DGC_867      0.068636\n",
       "8       CDC_V5861      0.054678\n",
       "9    County_Count      0.017492"
      ]
     },
     "execution_count": 232,
     "metadata": {},
     "output_type": "execute_result"
    }
   ],
   "source": [
    "Feature_Importance9 = pd.DataFrame(np.column_stack(svc.coef_ ), index = X.columns, columns = ['Coefficients']).\\\n",
    "sort_values(ascending = False, by = 'Coefficients').reset_index()\n",
    "Feature_Importance9.loc[Feature_Importance9.Coefficients > 0.0099]"
   ]
  },
  {
   "cell_type": "markdown",
   "metadata": {},
   "source": [
    "********************************************************"
   ]
  },
  {
   "cell_type": "markdown",
   "metadata": {},
   "source": [
    "************************************************** "
   ]
  },
  {
   "cell_type": "markdown",
   "metadata": {},
   "source": [
    "************************************************** "
   ]
  },
  {
   "cell_type": "markdown",
   "metadata": {},
   "source": [
    "# Combined feature engineered test features"
   ]
  },
  {
   "cell_type": "code",
   "execution_count": 233,
   "metadata": {},
   "outputs": [],
   "source": [
    "features_1 = pd.read_csv('/Users/suborna/Github/Capstone_Project/Data/Test_New_Features1.csv') # Anthony\n",
    "features_2 = pd.read_csv('/Users/suborna/Github/Capstone_Project/Data/Test_New_Features2.csv') # Suborna\n",
    "\n",
    "features = features_1.merge(features_2, on = 'Provider')\n",
    "\n",
    "# features.to_csv('/Users/suborna/Github/Capstone_Project/Data/test_features.csv', index = False)"
   ]
  },
  {
   "cell_type": "markdown",
   "metadata": {},
   "source": [
    "# Market-basket Analysis (MBA)"
   ]
  },
  {
   "cell_type": "code",
   "execution_count": 3,
   "metadata": {},
   "outputs": [],
   "source": [
    "pd.set_option('display.max_colwidth', 500)"
   ]
  },
  {
   "cell_type": "code",
   "execution_count": 4,
   "metadata": {},
   "outputs": [],
   "source": [
    "from mlxtend.frequent_patterns import apriori\n",
    "from mlxtend.frequent_patterns import association_rules"
   ]
  },
  {
   "cell_type": "code",
   "execution_count": 50,
   "metadata": {},
   "outputs": [],
   "source": [
    "chronic_F = Fraud_df[['Alzheimer',\n",
    "       'Heartfailure', 'KidneyDisease', 'Cancer', 'ObstrPulmonary',\n",
    "       'Depression', 'Diabetes', 'IschemicHeart', 'Osteoporasis',\n",
    "       'rheumatoidarthritis', 'stroke', 'RenalDisease']].copy()\n",
    "\n",
    "chronic_F = chronic_F.astype(bool)\n",
    "\n",
    "frequent_chronic_F = apriori(chronic_F, min_support=0.8, use_colnames=True)\n",
    "MBA_chronic_F = association_rules(frequent_chronic_F, metric=\"lift\", min_threshold=0.7)\n",
    "\n",
    "# chronic_N = NFraud_df[['Alzheimer',\n",
    "#        'Heartfailure', 'KidneyDisease', 'Cancer', 'ObstrPulmonary',\n",
    "#        'Depression', 'Diabetes', 'IschemicHeart', 'Osteoporasis',\n",
    "#        'rheumatoidarthritis', 'stroke', 'RenalDisease']].copy()\n",
    "\n",
    "# chronic_N = chronic_N.astype(bool)\n",
    "\n",
    "# frequent_chronic_N = apriori(chronic_N, min_support=0.8, use_colnames=True)\n",
    "# MBA_chronic_N = association_rules(frequent_chronic_N, metric=\"lift\", min_threshold=0.7)"
   ]
  },
  {
   "cell_type": "code",
   "execution_count": 66,
   "metadata": {
    "scrolled": true
   },
   "outputs": [],
   "source": [
    "MBA_chronic_F.loc[MBA_chronic_F.support > 0.95] # IschemicHeart, Heartfailure, Diabetes"
   ]
  },
  {
   "cell_type": "code",
   "execution_count": 167,
   "metadata": {},
   "outputs": [],
   "source": [
    "# CDC_N = NFraud_df[['CDC_2449', 'CDC_25000', 'CDC_2720', 'CDC_2724', 'CDC_4011', 'CDC_4019',\n",
    "#        'CDC_41401', 'CDC_42731', 'CDC_4280', 'CDC_496', 'CDC_53081',\n",
    "#        'CDC_5990', 'CDC_V5861', 'CDC_V5869']].copy()\n",
    "\n",
    "# CDC_N = CDC_N.astype(bool)\n",
    "\n",
    "# frequent_CDC_N = apriori(CDC_N, min_support=0.8, use_colnames=True)\n",
    "# MBA_CDC_N = association_rules(frequent_CDC_N, metric=\"lift\", min_threshold=0.7)\n",
    "\n",
    "# 'State_Count',  'Age(81-100)',  'Female_Patient', 'CDC_4019'\n",
    "#        'Alzheimer', 'Heartfailure', 'KidneyDisease', 'Cancer', 'ObstrPulmonary','Depression', 'Diabetes', 'IschemicHeart', 'Osteoporasis', 'rheumatoidarthritis', 'stroke', 'RenalDisease' \n",
    "CDC_Chronic_F = Fraud_df[['CDC_41401', 'CDC_496', 'CDC_5990', 'CDC_53081', 'CDC_4019']].copy()\n",
    "\n",
    "CDC_Chronic_F = CDC_Chronic_F.astype(bool)\n",
    "\n",
    "frequent_CDC_F = apriori(CDC_Chronic_F, min_support=0.8, use_colnames=True)\n",
    "MBA_CDC_F = association_rules(frequent_CDC_F, metric=\"lift\", min_threshold=0.7)"
   ]
  },
  {
   "cell_type": "code",
   "execution_count": 168,
   "metadata": {},
   "outputs": [
    {
     "data": {
      "text/html": [
       "<div>\n",
       "<style scoped>\n",
       "    .dataframe tbody tr th:only-of-type {\n",
       "        vertical-align: middle;\n",
       "    }\n",
       "\n",
       "    .dataframe tbody tr th {\n",
       "        vertical-align: top;\n",
       "    }\n",
       "\n",
       "    .dataframe thead th {\n",
       "        text-align: right;\n",
       "    }\n",
       "</style>\n",
       "<table border=\"1\" class=\"dataframe\">\n",
       "  <thead>\n",
       "    <tr style=\"text-align: right;\">\n",
       "      <th></th>\n",
       "      <th>antecedents</th>\n",
       "      <th>consequents</th>\n",
       "      <th>antecedent support</th>\n",
       "      <th>consequent support</th>\n",
       "      <th>support</th>\n",
       "      <th>confidence</th>\n",
       "      <th>lift</th>\n",
       "      <th>leverage</th>\n",
       "      <th>conviction</th>\n",
       "    </tr>\n",
       "  </thead>\n",
       "  <tbody>\n",
       "  </tbody>\n",
       "</table>\n",
       "</div>"
      ],
      "text/plain": [
       "Empty DataFrame\n",
       "Columns: [antecedents, consequents, antecedent support, consequent support, support, confidence, lift, leverage, conviction]\n",
       "Index: []"
      ]
     },
     "execution_count": 168,
     "metadata": {},
     "output_type": "execute_result"
    }
   ],
   "source": [
    "MBA_CDC_F.loc[MBA_CDC_F.lift > 1.1]"
   ]
  },
  {
   "cell_type": "code",
   "execution_count": 38,
   "metadata": {},
   "outputs": [],
   "source": [
    "DGC_F = Fraud_df[['Provider', 'Male_Patient', 'Female_Patient', 'Age(26-40)',\n",
    "       'Age(41-60)', 'Age(61-80)', 'Age(81-100)', 'Race_White', 'Race_Black',\n",
    "       'Race_Hispanic', 'Race_Native', 'Hos_Stay_Total', 'Payment_Total',\n",
    "       'Claim_Len_Total']]\n",
    "\n",
    "DGC_F = DGC_F.astype(bool)\n",
    "\n",
    "frequent_DGC_F = apriori(DGC_F, min_support=0.8, use_colnames=True)\n",
    "MBA_DGC_F = association_rules(frequent_DGC_F, metric=\"lift\", min_threshold=0.7)\n",
    "\n",
    "# DGC_N = NFraud_df[['Provider', 'Male_Patient', 'Female_Patient', 'Age(26-40)',\n",
    "#        'Age(41-60)', 'Age(61-80)', 'Age(81-100)', 'Race_White', 'Race_Black',\n",
    "#        'Race_Hispanic', 'Race_Native', 'Hos_Stay_Total', 'Payment_Total',\n",
    "#        'Claim_Len_Total', ]]\n",
    "# DGC_N = DGC_N.astype(bool)\n",
    "\n",
    "# frequent_DGC_N = apriori(DGC_N, min_support=0.8, use_colnames=True)\n",
    "# # MBA_DGC_N = association_rules(frequent_DGC_N, metric=\"lift\", min_threshold=0.7)"
   ]
  },
  {
   "cell_type": "code",
   "execution_count": 43,
   "metadata": {},
   "outputs": [
    {
     "data": {
      "text/html": [
       "<div>\n",
       "<style scoped>\n",
       "    .dataframe tbody tr th:only-of-type {\n",
       "        vertical-align: middle;\n",
       "    }\n",
       "\n",
       "    .dataframe tbody tr th {\n",
       "        vertical-align: top;\n",
       "    }\n",
       "\n",
       "    .dataframe thead th {\n",
       "        text-align: right;\n",
       "    }\n",
       "</style>\n",
       "<table border=\"1\" class=\"dataframe\">\n",
       "  <thead>\n",
       "    <tr style=\"text-align: right;\">\n",
       "      <th></th>\n",
       "      <th>antecedents</th>\n",
       "      <th>consequents</th>\n",
       "      <th>antecedent support</th>\n",
       "      <th>consequent support</th>\n",
       "      <th>support</th>\n",
       "      <th>confidence</th>\n",
       "      <th>lift</th>\n",
       "      <th>leverage</th>\n",
       "      <th>conviction</th>\n",
       "    </tr>\n",
       "  </thead>\n",
       "  <tbody>\n",
       "  </tbody>\n",
       "</table>\n",
       "</div>"
      ],
      "text/plain": [
       "Empty DataFrame\n",
       "Columns: [antecedents, consequents, antecedent support, consequent support, support, confidence, lift, leverage, conviction]\n",
       "Index: []"
      ]
     },
     "execution_count": 43,
     "metadata": {},
     "output_type": "execute_result"
    }
   ],
   "source": [
    "MBA_DGC_F.loc[ (MBA_DGC_F.confidence > 0.95) & (MBA_DGC_F.lift > 1.1) ]"
   ]
  },
  {
   "cell_type": "code",
   "execution_count": 17,
   "metadata": {
    "scrolled": true
   },
   "outputs": [
    {
     "data": {
      "text/plain": [
       "Index(['Index', 'Provider', 'Male_Patient', 'Female_Patient', 'Age(26-40)',\n",
       "       'Age(41-60)', 'Age(61-80)', 'Age(81-100)', 'Race_White', 'Race_Black',\n",
       "       'Race_Hispanic', 'Race_Native', 'Hos_Stay_Total', 'Payment_Total',\n",
       "       'Claim_Len_Total', 'Alzheimer', 'Heartfailure', 'KidneyDisease',\n",
       "       'Cancer', 'ObstrPulmonary', 'Depression', 'Diabetes', 'IschemicHeart',\n",
       "       'Osteoporasis', 'rheumatoidarthritis', 'stroke', 'RenalDisease',\n",
       "       'State_Count', 'County_Count', 'DiagGroupCode', 'PotentialFraud',\n",
       "       'CDC_2449', 'CDC_25000', 'CDC_2720', 'CDC_2724', 'CDC_4011', 'CDC_4019',\n",
       "       'CDC_41401', 'CDC_42731', 'CDC_4280', 'CDC_496', 'CDC_53081',\n",
       "       'CDC_5990', 'CDC_V5861', 'CDC_V5869', 'CPC_2724', 'CPC_3722',\n",
       "       'CPC_3893', 'CPC_3995', 'CPC_4019', 'CPC_4516', 'CPC_66', 'CPC_8151',\n",
       "       'CPC_8154', 'CPC_9904', 'DGC_166', 'DGC_167', 'DGC_183', 'DGC_186',\n",
       "       'DGC_187', 'DGC_188', 'DGC_192', 'DGC_202', 'DGC_208', 'DGC_881',\n",
       "       'DGC_882', 'DGC_883', 'DGC_884', 'DGC_887', 'DGC_939', 'DGC_940',\n",
       "       'DGC_941', 'DGC_945'],\n",
       "      dtype='object')"
      ]
     },
     "execution_count": 17,
     "metadata": {},
     "output_type": "execute_result"
    }
   ],
   "source": [
    "Fraud_df.columns"
   ]
  },
  {
   "cell_type": "markdown",
   "metadata": {},
   "source": [
    "# >>>>>>>>>>> EDA on All Features & Lasso  Features <<<<<<<<<<<<<<"
   ]
  },
  {
   "cell_type": "code",
   "execution_count": 116,
   "metadata": {},
   "outputs": [],
   "source": [
    "# Import all the necessary libraries for EDA\n",
    "import numpy as np\n",
    "import matplotlib.pyplot as plt\n",
    "import seaborn as sns\n",
    "import pandas as pd \n",
    "%matplotlib inline"
   ]
  },
  {
   "cell_type": "code",
   "execution_count": null,
   "metadata": {},
   "outputs": [],
   "source": [
    "pd.set_option('display.max_columns', 100) # shows all the columns\n",
    "\n",
    "# loading all the datasets\n",
    "features_1 = pd.read_csv('/Users/suborna/Github/Capstone_Project/Data/Combined_Provider.csv')\n",
    "features_2 = pd.read_csv('/Users/suborna/Github/Capstone_Project/Data/new_features.csv')\n",
    "\n",
    "# merging features_1 & features_2 to have the complete dataset of new features\n",
    "All_Features = features_2.merge(features_1, on = 'Provider')\n",
    "\n",
    "#### Seperating the dataset into 2 frames: fraud & not fraud\n",
    "\n",
    "## Potential Fraud dataset\n",
    "fraud_df = All_Features.loc[All_Features.PotentialFraud == 'Yes']\n",
    "Fraud_df = fraud_df.reset_index().rename(columns = {'index': 'Index'})\n",
    "\n",
    "## Not Potential Fraud Dataset\n",
    "nfraud_df = All_Features.loc[All_Features.PotentialFraud == 'No']\n",
    "NFraud_df = nfraud_df.reset_index().rename(columns = {'index': 'Index'})\n"
   ]
  },
  {
   "cell_type": "code",
   "execution_count": 170,
   "metadata": {},
   "outputs": [],
   "source": [
    " plt.rcParams[\"figure.figsize\"] = [20, 6]"
   ]
  },
  {
   "cell_type": "code",
   "execution_count": 199,
   "metadata": {},
   "outputs": [
    {
     "data": {
      "text/html": [
       "<div>\n",
       "<style scoped>\n",
       "    .dataframe tbody tr th:only-of-type {\n",
       "        vertical-align: middle;\n",
       "    }\n",
       "\n",
       "    .dataframe tbody tr th {\n",
       "        vertical-align: top;\n",
       "    }\n",
       "\n",
       "    .dataframe thead th {\n",
       "        text-align: right;\n",
       "    }\n",
       "</style>\n",
       "<table border=\"1\" class=\"dataframe\">\n",
       "  <thead>\n",
       "    <tr style=\"text-align: right;\">\n",
       "      <th></th>\n",
       "      <th>CDC_41401</th>\n",
       "      <th>CDC_496</th>\n",
       "      <th>CDC_5990</th>\n",
       "      <th>CDC_53081</th>\n",
       "      <th>Age(26-40)</th>\n",
       "      <th>State_Count</th>\n",
       "      <th>Age(81-100)</th>\n",
       "      <th>Female_Patient</th>\n",
       "      <th>CDC_4019</th>\n",
       "    </tr>\n",
       "  </thead>\n",
       "  <tbody>\n",
       "    <tr>\n",
       "      <th>count</th>\n",
       "      <td>506.000000</td>\n",
       "      <td>506.000000</td>\n",
       "      <td>506.000000</td>\n",
       "      <td>506.000000</td>\n",
       "      <td>506.000000</td>\n",
       "      <td>506.000000</td>\n",
       "      <td>506.000000</td>\n",
       "      <td>506.000000</td>\n",
       "      <td>506.000000</td>\n",
       "    </tr>\n",
       "    <tr>\n",
       "      <th>mean</th>\n",
       "      <td>5.053360</td>\n",
       "      <td>4.415020</td>\n",
       "      <td>4.484190</td>\n",
       "      <td>4.626482</td>\n",
       "      <td>6.494071</td>\n",
       "      <td>5.379447</td>\n",
       "      <td>70.411067</td>\n",
       "      <td>139.179842</td>\n",
       "      <td>7.197628</td>\n",
       "    </tr>\n",
       "    <tr>\n",
       "      <th>std</th>\n",
       "      <td>2.754496</td>\n",
       "      <td>2.713679</td>\n",
       "      <td>2.741819</td>\n",
       "      <td>2.681216</td>\n",
       "      <td>9.290950</td>\n",
       "      <td>5.430961</td>\n",
       "      <td>101.843041</td>\n",
       "      <td>198.716638</td>\n",
       "      <td>2.272625</td>\n",
       "    </tr>\n",
       "    <tr>\n",
       "      <th>min</th>\n",
       "      <td>0.000000</td>\n",
       "      <td>0.000000</td>\n",
       "      <td>0.000000</td>\n",
       "      <td>0.000000</td>\n",
       "      <td>0.000000</td>\n",
       "      <td>1.000000</td>\n",
       "      <td>1.000000</td>\n",
       "      <td>0.000000</td>\n",
       "      <td>0.000000</td>\n",
       "    </tr>\n",
       "    <tr>\n",
       "      <th>5%</th>\n",
       "      <td>1.000000</td>\n",
       "      <td>0.000000</td>\n",
       "      <td>0.000000</td>\n",
       "      <td>0.000000</td>\n",
       "      <td>0.000000</td>\n",
       "      <td>1.000000</td>\n",
       "      <td>3.000000</td>\n",
       "      <td>8.000000</td>\n",
       "      <td>3.000000</td>\n",
       "    </tr>\n",
       "    <tr>\n",
       "      <th>25%</th>\n",
       "      <td>3.000000</td>\n",
       "      <td>2.000000</td>\n",
       "      <td>2.000000</td>\n",
       "      <td>2.000000</td>\n",
       "      <td>1.000000</td>\n",
       "      <td>2.000000</td>\n",
       "      <td>14.000000</td>\n",
       "      <td>29.000000</td>\n",
       "      <td>6.000000</td>\n",
       "    </tr>\n",
       "    <tr>\n",
       "      <th>50%</th>\n",
       "      <td>5.000000</td>\n",
       "      <td>4.000000</td>\n",
       "      <td>5.000000</td>\n",
       "      <td>5.000000</td>\n",
       "      <td>3.000000</td>\n",
       "      <td>4.000000</td>\n",
       "      <td>34.000000</td>\n",
       "      <td>67.500000</td>\n",
       "      <td>8.000000</td>\n",
       "    </tr>\n",
       "    <tr>\n",
       "      <th>75%</th>\n",
       "      <td>7.000000</td>\n",
       "      <td>7.000000</td>\n",
       "      <td>7.000000</td>\n",
       "      <td>7.000000</td>\n",
       "      <td>7.750000</td>\n",
       "      <td>6.000000</td>\n",
       "      <td>76.750000</td>\n",
       "      <td>146.750000</td>\n",
       "      <td>9.000000</td>\n",
       "    </tr>\n",
       "    <tr>\n",
       "      <th>95%</th>\n",
       "      <td>9.000000</td>\n",
       "      <td>9.000000</td>\n",
       "      <td>9.000000</td>\n",
       "      <td>9.000000</td>\n",
       "      <td>25.750000</td>\n",
       "      <td>16.750000</td>\n",
       "      <td>272.250000</td>\n",
       "      <td>527.500000</td>\n",
       "      <td>10.000000</td>\n",
       "    </tr>\n",
       "    <tr>\n",
       "      <th>max</th>\n",
       "      <td>10.000000</td>\n",
       "      <td>10.000000</td>\n",
       "      <td>10.000000</td>\n",
       "      <td>10.000000</td>\n",
       "      <td>82.000000</td>\n",
       "      <td>38.000000</td>\n",
       "      <td>876.000000</td>\n",
       "      <td>1641.000000</td>\n",
       "      <td>10.000000</td>\n",
       "    </tr>\n",
       "  </tbody>\n",
       "</table>\n",
       "</div>"
      ],
      "text/plain": [
       "        CDC_41401     CDC_496    CDC_5990   CDC_53081  Age(26-40)  \\\n",
       "count  506.000000  506.000000  506.000000  506.000000  506.000000   \n",
       "mean     5.053360    4.415020    4.484190    4.626482    6.494071   \n",
       "std      2.754496    2.713679    2.741819    2.681216    9.290950   \n",
       "min      0.000000    0.000000    0.000000    0.000000    0.000000   \n",
       "5%       1.000000    0.000000    0.000000    0.000000    0.000000   \n",
       "25%      3.000000    2.000000    2.000000    2.000000    1.000000   \n",
       "50%      5.000000    4.000000    5.000000    5.000000    3.000000   \n",
       "75%      7.000000    7.000000    7.000000    7.000000    7.750000   \n",
       "95%      9.000000    9.000000    9.000000    9.000000   25.750000   \n",
       "max     10.000000   10.000000   10.000000   10.000000   82.000000   \n",
       "\n",
       "       State_Count  Age(81-100)  Female_Patient    CDC_4019  \n",
       "count   506.000000   506.000000      506.000000  506.000000  \n",
       "mean      5.379447    70.411067      139.179842    7.197628  \n",
       "std       5.430961   101.843041      198.716638    2.272625  \n",
       "min       1.000000     1.000000        0.000000    0.000000  \n",
       "5%        1.000000     3.000000        8.000000    3.000000  \n",
       "25%       2.000000    14.000000       29.000000    6.000000  \n",
       "50%       4.000000    34.000000       67.500000    8.000000  \n",
       "75%       6.000000    76.750000      146.750000    9.000000  \n",
       "95%      16.750000   272.250000      527.500000   10.000000  \n",
       "max      38.000000   876.000000     1641.000000   10.000000  "
      ]
     },
     "execution_count": 199,
     "metadata": {},
     "output_type": "execute_result"
    }
   ],
   "source": [
    "Fraud_df[['CDC_41401', 'CDC_496', 'CDC_5990', 'CDC_53081', 'Age(26-40)',  'State_Count',  'Age(81-100)',  'Female_Patient', 'CDC_4019']].describe(percentiles = [.05, .25, .5, .75, .95])"
   ]
  },
  {
   "cell_type": "code",
   "execution_count": 200,
   "metadata": {},
   "outputs": [
    {
     "data": {
      "text/plain": [
       "CDC_41401          5.0\n",
       "CDC_496            4.0\n",
       "CDC_5990           5.0\n",
       "CDC_53081          5.0\n",
       "Age(26-40)         3.0\n",
       "State_Count        4.0\n",
       "Age(81-100)       34.0\n",
       "Female_Patient    67.5\n",
       "CDC_4019           8.0\n",
       "dtype: float64"
      ]
     },
     "execution_count": 200,
     "metadata": {},
     "output_type": "execute_result"
    }
   ],
   "source": [
    "Fraud_df[['CDC_41401', 'CDC_496', 'CDC_5990', 'CDC_53081', 'Age(26-40)',  'State_Count',  'Age(81-100)',  'Female_Patient', 'CDC_4019']].median()"
   ]
  },
  {
   "cell_type": "code",
   "execution_count": 202,
   "metadata": {
    "scrolled": true
   },
   "outputs": [
    {
     "data": {
      "text/html": [
       "<div>\n",
       "<style scoped>\n",
       "    .dataframe tbody tr th:only-of-type {\n",
       "        vertical-align: middle;\n",
       "    }\n",
       "\n",
       "    .dataframe tbody tr th {\n",
       "        vertical-align: top;\n",
       "    }\n",
       "\n",
       "    .dataframe thead th {\n",
       "        text-align: right;\n",
       "    }\n",
       "</style>\n",
       "<table border=\"1\" class=\"dataframe\">\n",
       "  <thead>\n",
       "    <tr style=\"text-align: right;\">\n",
       "      <th></th>\n",
       "      <th>CDC_41401</th>\n",
       "      <th>CDC_496</th>\n",
       "      <th>CDC_5990</th>\n",
       "      <th>CDC_53081</th>\n",
       "      <th>Age(26-40)</th>\n",
       "      <th>State_Count</th>\n",
       "      <th>Age(81-100)</th>\n",
       "      <th>Female_Patient</th>\n",
       "      <th>CDC_4019</th>\n",
       "    </tr>\n",
       "  </thead>\n",
       "  <tbody>\n",
       "    <tr>\n",
       "      <th>count</th>\n",
       "      <td>500.0</td>\n",
       "      <td>500.0</td>\n",
       "      <td>500.0</td>\n",
       "      <td>500.0</td>\n",
       "      <td>500.000000</td>\n",
       "      <td>500.000000</td>\n",
       "      <td>500.000000</td>\n",
       "      <td>500.000000</td>\n",
       "      <td>500.000000</td>\n",
       "    </tr>\n",
       "    <tr>\n",
       "      <th>mean</th>\n",
       "      <td>0.0</td>\n",
       "      <td>0.0</td>\n",
       "      <td>0.0</td>\n",
       "      <td>0.0</td>\n",
       "      <td>1.248000</td>\n",
       "      <td>2.206000</td>\n",
       "      <td>13.690000</td>\n",
       "      <td>27.428000</td>\n",
       "      <td>3.232000</td>\n",
       "    </tr>\n",
       "    <tr>\n",
       "      <th>std</th>\n",
       "      <td>0.0</td>\n",
       "      <td>0.0</td>\n",
       "      <td>0.0</td>\n",
       "      <td>0.0</td>\n",
       "      <td>2.162371</td>\n",
       "      <td>2.356835</td>\n",
       "      <td>22.019346</td>\n",
       "      <td>42.932169</td>\n",
       "      <td>2.524068</td>\n",
       "    </tr>\n",
       "    <tr>\n",
       "      <th>min</th>\n",
       "      <td>0.0</td>\n",
       "      <td>0.0</td>\n",
       "      <td>0.0</td>\n",
       "      <td>0.0</td>\n",
       "      <td>0.000000</td>\n",
       "      <td>1.000000</td>\n",
       "      <td>0.000000</td>\n",
       "      <td>0.000000</td>\n",
       "      <td>0.000000</td>\n",
       "    </tr>\n",
       "    <tr>\n",
       "      <th>5%</th>\n",
       "      <td>0.0</td>\n",
       "      <td>0.0</td>\n",
       "      <td>0.0</td>\n",
       "      <td>0.0</td>\n",
       "      <td>0.000000</td>\n",
       "      <td>1.000000</td>\n",
       "      <td>0.000000</td>\n",
       "      <td>1.000000</td>\n",
       "      <td>0.000000</td>\n",
       "    </tr>\n",
       "    <tr>\n",
       "      <th>25%</th>\n",
       "      <td>0.0</td>\n",
       "      <td>0.0</td>\n",
       "      <td>0.0</td>\n",
       "      <td>0.0</td>\n",
       "      <td>0.000000</td>\n",
       "      <td>1.000000</td>\n",
       "      <td>2.000000</td>\n",
       "      <td>4.000000</td>\n",
       "      <td>1.000000</td>\n",
       "    </tr>\n",
       "    <tr>\n",
       "      <th>50%</th>\n",
       "      <td>0.0</td>\n",
       "      <td>0.0</td>\n",
       "      <td>0.0</td>\n",
       "      <td>0.0</td>\n",
       "      <td>0.000000</td>\n",
       "      <td>1.000000</td>\n",
       "      <td>6.000000</td>\n",
       "      <td>12.000000</td>\n",
       "      <td>3.000000</td>\n",
       "    </tr>\n",
       "    <tr>\n",
       "      <th>75%</th>\n",
       "      <td>0.0</td>\n",
       "      <td>0.0</td>\n",
       "      <td>0.0</td>\n",
       "      <td>0.0</td>\n",
       "      <td>1.250000</td>\n",
       "      <td>2.000000</td>\n",
       "      <td>15.000000</td>\n",
       "      <td>33.000000</td>\n",
       "      <td>5.000000</td>\n",
       "    </tr>\n",
       "    <tr>\n",
       "      <th>95%</th>\n",
       "      <td>0.0</td>\n",
       "      <td>0.0</td>\n",
       "      <td>0.0</td>\n",
       "      <td>0.0</td>\n",
       "      <td>6.000000</td>\n",
       "      <td>6.050000</td>\n",
       "      <td>52.050000</td>\n",
       "      <td>105.050000</td>\n",
       "      <td>8.000000</td>\n",
       "    </tr>\n",
       "    <tr>\n",
       "      <th>max</th>\n",
       "      <td>0.0</td>\n",
       "      <td>0.0</td>\n",
       "      <td>0.0</td>\n",
       "      <td>0.0</td>\n",
       "      <td>18.000000</td>\n",
       "      <td>20.000000</td>\n",
       "      <td>189.000000</td>\n",
       "      <td>343.000000</td>\n",
       "      <td>9.000000</td>\n",
       "    </tr>\n",
       "  </tbody>\n",
       "</table>\n",
       "</div>"
      ],
      "text/plain": [
       "       CDC_41401  CDC_496  CDC_5990  CDC_53081  Age(26-40)  State_Count  \\\n",
       "count      500.0    500.0     500.0      500.0  500.000000   500.000000   \n",
       "mean         0.0      0.0       0.0        0.0    1.248000     2.206000   \n",
       "std          0.0      0.0       0.0        0.0    2.162371     2.356835   \n",
       "min          0.0      0.0       0.0        0.0    0.000000     1.000000   \n",
       "5%           0.0      0.0       0.0        0.0    0.000000     1.000000   \n",
       "25%          0.0      0.0       0.0        0.0    0.000000     1.000000   \n",
       "50%          0.0      0.0       0.0        0.0    0.000000     1.000000   \n",
       "75%          0.0      0.0       0.0        0.0    1.250000     2.000000   \n",
       "95%          0.0      0.0       0.0        0.0    6.000000     6.050000   \n",
       "max          0.0      0.0       0.0        0.0   18.000000    20.000000   \n",
       "\n",
       "       Age(81-100)  Female_Patient    CDC_4019  \n",
       "count   500.000000      500.000000  500.000000  \n",
       "mean     13.690000       27.428000    3.232000  \n",
       "std      22.019346       42.932169    2.524068  \n",
       "min       0.000000        0.000000    0.000000  \n",
       "5%        0.000000        1.000000    0.000000  \n",
       "25%       2.000000        4.000000    1.000000  \n",
       "50%       6.000000       12.000000    3.000000  \n",
       "75%      15.000000       33.000000    5.000000  \n",
       "95%      52.050000      105.050000    8.000000  \n",
       "max     189.000000      343.000000    9.000000  "
      ]
     },
     "execution_count": 202,
     "metadata": {},
     "output_type": "execute_result"
    }
   ],
   "source": [
    "NFraud_df[['CDC_41401', 'CDC_496', 'CDC_5990', 'CDC_53081', 'Age(26-40)',  'State_Count',  'Age(81-100)',  'Female_Patient', 'CDC_4019']].sample(500).describe(percentiles = [.05, .25, .5, .75, .95])"
   ]
  },
  {
   "cell_type": "code",
   "execution_count": 203,
   "metadata": {
    "scrolled": true
   },
   "outputs": [
    {
     "data": {
      "text/plain": [
       "CDC_41401          0.0\n",
       "CDC_496            0.0\n",
       "CDC_5990           0.0\n",
       "CDC_53081          0.0\n",
       "Age(26-40)         0.0\n",
       "State_Count        1.0\n",
       "Age(81-100)        6.0\n",
       "Female_Patient    13.0\n",
       "CDC_4019           3.0\n",
       "dtype: float64"
      ]
     },
     "execution_count": 203,
     "metadata": {},
     "output_type": "execute_result"
    }
   ],
   "source": [
    "NFraud_df[['CDC_41401', 'CDC_496', 'CDC_5990', 'CDC_53081', 'Age(26-40)',  'State_Count',  'Age(81-100)',  'Female_Patient', 'CDC_4019']].median()"
   ]
  },
  {
   "cell_type": "code",
   "execution_count": 180,
   "metadata": {},
   "outputs": [
    {
     "data": {
      "image/png": "[encoded data removed]",
      "text/plain": [
       "<Figure size 1440x432 with 2 Axes>"
      ]
     },
     "metadata": {
      "needs_background": "light"
     },
     "output_type": "display_data"
    }
   ],
   "source": [
    "plt.figure(1)\n",
    "plt.subplot(1, 2, 1)\n",
    "df1 = Fraud_df[['CDC_41401', 'CDC_496', 'CDC_496', 'CDC_5990', 'CDC_53081', 'CDC_4019']]\n",
    "\n",
    "sns.boxplot(x = \"variable\", y = \"value\", data = pd.melt(df1))\n",
    "plt.xticks(fontsize = 14)\n",
    "plt.yticks(fontsize = 14)\n",
    "plt.xlabel('CDC Codes', fontsize = 14)\n",
    "plt.ylabel('Count', fontsize = 14)\n",
    "plt.title('CDC Codes', fontsize = 14)\n",
    "\n",
    "plt.subplot(1, 2, 2)\n",
    "df2 = NFraud_df[['CDC_41401', 'CDC_496', 'CDC_5990', 'CDC_53081', 'CDC_4019']]\n",
    "sns.boxplot(x = \"variable\", y = \"value\", data = pd.melt(df2))\n",
    "plt.xticks(fontsize = 14)\n",
    "plt.yticks(fontsize = 14)\n",
    "plt.xlabel('CDC Codes', fontsize = 14)\n",
    "plt.ylabel('Count', fontsize = 14)\n",
    "plt.title('CDC Codes', fontsize = 14)\n",
    "plt.tight_layout()\n",
    "plt.show()"
   ]
  },
  {
   "cell_type": "code",
   "execution_count": 207,
   "metadata": {
    "scrolled": true
   },
   "outputs": [
    {
     "data": {
      "image/png": "[encoded data removed]",
      "text/plain": [
       "<Figure size 1440x432 with 2 Axes>"
      ]
     },
     "metadata": {
      "needs_background": "light"
     },
     "output_type": "display_data"
    }
   ],
   "source": [
    "plt.figure(1)\n",
    "plt.subplot(1, 2, 1)\n",
    "df1 = Fraud_df[['Age(26-40)',  'Age(81-100)']]\n",
    "sns.boxplot(x = \"variable\", y = \"value\", data = pd.melt(df1))\n",
    "plt.xticks(fontsize = 14)\n",
    "plt.yticks(fontsize = 14)\n",
    "plt.xlabel('Features', fontsize = 14)\n",
    "plt.ylabel('Count', fontsize = 14)\n",
    "plt.title('Features', fontsize = 14)\n",
    "\n",
    "\n",
    "plt.subplot(1, 2, 2)\n",
    "df2 = NFraud_df[['Age(26-40)',  'Age(81-100)']]\n",
    "sns.boxplot(x = \"variable\", y = \"value\", data = pd.melt(df2))\n",
    "plt.xticks(fontsize = 14)\n",
    "plt.yticks(fontsize = 14)\n",
    "plt.xlabel('Features', fontsize = 14)\n",
    "plt.ylabel('Count', fontsize = 14)\n",
    "plt.title('Features', fontsize = 14)\n",
    "plt.tight_layout()\n",
    "plt.show()"
   ]
  },
  {
   "cell_type": "code",
   "execution_count": 208,
   "metadata": {
    "scrolled": true
   },
   "outputs": [
    {
     "data": {
      "image/png": "[encoded data removed]",
      "text/plain": [
       "<Figure size 1440x432 with 2 Axes>"
      ]
     },
     "metadata": {
      "needs_background": "light"
     },
     "output_type": "display_data"
    }
   ],
   "source": [
    "plt.figure(1)\n",
    "plt.subplot(1, 2, 1)\n",
    "df1 = Fraud_df[['State_Count',  'Female_Patient']]\n",
    "\n",
    "sns.boxplot(x = \"variable\", y = \"value\", data = pd.melt(df1))\n",
    "plt.xticks(fontsize = 14)\n",
    "plt.yticks(fontsize = 14)\n",
    "plt.xlabel('Features', fontsize = 14)\n",
    "plt.ylabel('Count', fontsize = 14)\n",
    "plt.title('Features', fontsize = 14)\n",
    "\n",
    "plt.subplot(1, 2, 2)\n",
    "df2 = NFraud_df[['State_Count',  'Female_Patient']]\n",
    "sns.boxplot(x = \"variable\", y = \"value\", data = pd.melt(df2))\n",
    "plt.xticks(fontsize = 14)\n",
    "plt.yticks(fontsize = 14)\n",
    "plt.xlabel('Features', fontsize = 14)\n",
    "plt.ylabel('Count', fontsize = 14)\n",
    "plt.title('Features', fontsize = 14)\n",
    "plt.tight_layout()\n",
    "plt.show()"
   ]
  },
  {
   "cell_type": "code",
   "execution_count": 76,
   "metadata": {},
   "outputs": [
    {
     "data": {
      "text/html": [
       "<div>\n",
       "<style scoped>\n",
       "    .dataframe tbody tr th:only-of-type {\n",
       "        vertical-align: middle;\n",
       "    }\n",
       "\n",
       "    .dataframe tbody tr th {\n",
       "        vertical-align: top;\n",
       "    }\n",
       "\n",
       "    .dataframe thead th {\n",
       "        text-align: right;\n",
       "    }\n",
       "</style>\n",
       "<table border=\"1\" class=\"dataframe\">\n",
       "  <thead>\n",
       "    <tr style=\"text-align: right;\">\n",
       "      <th></th>\n",
       "      <th>Feature1</th>\n",
       "      <th>Feature2</th>\n",
       "      <th>Corr_Coef</th>\n",
       "    </tr>\n",
       "  </thead>\n",
       "  <tbody>\n",
       "    <tr>\n",
       "      <th>185</th>\n",
       "      <td>Age(41-60)</td>\n",
       "      <td>Diabetes</td>\n",
       "      <td>0.909666</td>\n",
       "    </tr>\n",
       "    <tr>\n",
       "      <th>179</th>\n",
       "      <td>Age(41-60)</td>\n",
       "      <td>Alzheimer</td>\n",
       "      <td>0.909217</td>\n",
       "    </tr>\n",
       "    <tr>\n",
       "      <th>430</th>\n",
       "      <td>Race_Hispanic</td>\n",
       "      <td>Race_Native</td>\n",
       "      <td>0.906634</td>\n",
       "    </tr>\n",
       "    <tr>\n",
       "      <th>188</th>\n",
       "      <td>Age(41-60)</td>\n",
       "      <td>rheumatoidarthritis</td>\n",
       "      <td>0.906371</td>\n",
       "    </tr>\n",
       "    <tr>\n",
       "      <th>182</th>\n",
       "      <td>Age(41-60)</td>\n",
       "      <td>Cancer</td>\n",
       "      <td>0.903338</td>\n",
       "    </tr>\n",
       "    <tr>\n",
       "      <th>1127</th>\n",
       "      <td>State_Count</td>\n",
       "      <td>County_Count</td>\n",
       "      <td>0.893143</td>\n",
       "    </tr>\n",
       "    <tr>\n",
       "      <th>189</th>\n",
       "      <td>Age(41-60)</td>\n",
       "      <td>stroke</td>\n",
       "      <td>0.892325</td>\n",
       "    </tr>\n",
       "    <tr>\n",
       "      <th>127</th>\n",
       "      <td>Age(26-40)</td>\n",
       "      <td>KidneyDisease</td>\n",
       "      <td>0.886312</td>\n",
       "    </tr>\n",
       "    <tr>\n",
       "      <th>129</th>\n",
       "      <td>Age(26-40)</td>\n",
       "      <td>ObstrPulmonary</td>\n",
       "      <td>0.885502</td>\n",
       "    </tr>\n",
       "    <tr>\n",
       "      <th>132</th>\n",
       "      <td>Age(26-40)</td>\n",
       "      <td>IschemicHeart</td>\n",
       "      <td>0.883842</td>\n",
       "    </tr>\n",
       "    <tr>\n",
       "      <th>136</th>\n",
       "      <td>Age(26-40)</td>\n",
       "      <td>RenalDisease</td>\n",
       "      <td>0.883649</td>\n",
       "    </tr>\n",
       "    <tr>\n",
       "      <th>126</th>\n",
       "      <td>Age(26-40)</td>\n",
       "      <td>Heartfailure</td>\n",
       "      <td>0.883180</td>\n",
       "    </tr>\n",
       "    <tr>\n",
       "      <th>133</th>\n",
       "      <td>Age(26-40)</td>\n",
       "      <td>Osteoporasis</td>\n",
       "      <td>0.882334</td>\n",
       "    </tr>\n",
       "    <tr>\n",
       "      <th>131</th>\n",
       "      <td>Age(26-40)</td>\n",
       "      <td>Diabetes</td>\n",
       "      <td>0.880371</td>\n",
       "    </tr>\n",
       "    <tr>\n",
       "      <th>124</th>\n",
       "      <td>Age(26-40)</td>\n",
       "      <td>Claim_Len_Total</td>\n",
       "      <td>0.879985</td>\n",
       "    </tr>\n",
       "  </tbody>\n",
       "</table>\n",
       "</div>"
      ],
      "text/plain": [
       "           Feature1             Feature2  Corr_Coef\n",
       "185      Age(41-60)             Diabetes   0.909666\n",
       "179      Age(41-60)            Alzheimer   0.909217\n",
       "430   Race_Hispanic          Race_Native   0.906634\n",
       "188      Age(41-60)  rheumatoidarthritis   0.906371\n",
       "182      Age(41-60)               Cancer   0.903338\n",
       "1127    State_Count         County_Count   0.893143\n",
       "189      Age(41-60)               stroke   0.892325\n",
       "127      Age(26-40)        KidneyDisease   0.886312\n",
       "129      Age(26-40)       ObstrPulmonary   0.885502\n",
       "132      Age(26-40)        IschemicHeart   0.883842\n",
       "136      Age(26-40)         RenalDisease   0.883649\n",
       "126      Age(26-40)         Heartfailure   0.883180\n",
       "133      Age(26-40)         Osteoporasis   0.882334\n",
       "131      Age(26-40)             Diabetes   0.880371\n",
       "124      Age(26-40)      Claim_Len_Total   0.879985"
      ]
     },
     "execution_count": 76,
     "metadata": {},
     "output_type": "execute_result"
    }
   ],
   "source": [
    "Fraud_CM = Fraud_df.drop('Index', axis = 1).corr().unstack().drop_duplicates().\\\n",
    "to_frame().reset_index().rename(columns = {'level_0' : 'Feature1', 'level_1' : 'Feature2', 0 : 'Corr_Coef'})\n",
    "Fraud_CM.loc[Fraud_CM.Corr_Coef < 0.91].sort_values(ascending = False, by = 'Corr_Coef').head(15)"
   ]
  },
  {
   "cell_type": "code",
   "execution_count": 77,
   "metadata": {
    "scrolled": false
   },
   "outputs": [
    {
     "data": {
      "text/html": [
       "<div>\n",
       "<style scoped>\n",
       "    .dataframe tbody tr th:only-of-type {\n",
       "        vertical-align: middle;\n",
       "    }\n",
       "\n",
       "    .dataframe tbody tr th {\n",
       "        vertical-align: top;\n",
       "    }\n",
       "\n",
       "    .dataframe thead th {\n",
       "        text-align: right;\n",
       "    }\n",
       "</style>\n",
       "<table border=\"1\" class=\"dataframe\">\n",
       "  <thead>\n",
       "    <tr style=\"text-align: right;\">\n",
       "      <th></th>\n",
       "      <th>Feature1</th>\n",
       "      <th>Feature2</th>\n",
       "      <th>Corr_Coef</th>\n",
       "    </tr>\n",
       "  </thead>\n",
       "  <tbody>\n",
       "    <tr>\n",
       "      <th>186</th>\n",
       "      <td>Age(41-60)</td>\n",
       "      <td>IschemicHeart</td>\n",
       "      <td>0.909658</td>\n",
       "    </tr>\n",
       "    <tr>\n",
       "      <th>180</th>\n",
       "      <td>Age(41-60)</td>\n",
       "      <td>Heartfailure</td>\n",
       "      <td>0.908376</td>\n",
       "    </tr>\n",
       "    <tr>\n",
       "      <th>181</th>\n",
       "      <td>Age(41-60)</td>\n",
       "      <td>KidneyDisease</td>\n",
       "      <td>0.904854</td>\n",
       "    </tr>\n",
       "    <tr>\n",
       "      <th>184</th>\n",
       "      <td>Age(41-60)</td>\n",
       "      <td>Depression</td>\n",
       "      <td>0.903741</td>\n",
       "    </tr>\n",
       "    <tr>\n",
       "      <th>187</th>\n",
       "      <td>Age(41-60)</td>\n",
       "      <td>Osteoporasis</td>\n",
       "      <td>0.901695</td>\n",
       "    </tr>\n",
       "    <tr>\n",
       "      <th>183</th>\n",
       "      <td>Age(41-60)</td>\n",
       "      <td>ObstrPulmonary</td>\n",
       "      <td>0.901632</td>\n",
       "    </tr>\n",
       "    <tr>\n",
       "      <th>295</th>\n",
       "      <td>Age(81-100)</td>\n",
       "      <td>RenalDisease</td>\n",
       "      <td>0.901625</td>\n",
       "    </tr>\n",
       "    <tr>\n",
       "      <th>345</th>\n",
       "      <td>Race_White</td>\n",
       "      <td>stroke</td>\n",
       "      <td>0.900817</td>\n",
       "    </tr>\n",
       "    <tr>\n",
       "      <th>179</th>\n",
       "      <td>Age(41-60)</td>\n",
       "      <td>Alzheimer</td>\n",
       "      <td>0.900430</td>\n",
       "    </tr>\n",
       "    <tr>\n",
       "      <th>188</th>\n",
       "      <td>Age(41-60)</td>\n",
       "      <td>rheumatoidarthritis</td>\n",
       "      <td>0.899790</td>\n",
       "    </tr>\n",
       "    <tr>\n",
       "      <th>80</th>\n",
       "      <td>Female_Patient</td>\n",
       "      <td>stroke</td>\n",
       "      <td>0.899024</td>\n",
       "    </tr>\n",
       "    <tr>\n",
       "      <th>283</th>\n",
       "      <td>Age(81-100)</td>\n",
       "      <td>Claim_Len_Total</td>\n",
       "      <td>0.898891</td>\n",
       "    </tr>\n",
       "    <tr>\n",
       "      <th>242</th>\n",
       "      <td>Age(61-80)</td>\n",
       "      <td>stroke</td>\n",
       "      <td>0.898750</td>\n",
       "    </tr>\n",
       "    <tr>\n",
       "      <th>23</th>\n",
       "      <td>Male_Patient</td>\n",
       "      <td>stroke</td>\n",
       "      <td>0.896272</td>\n",
       "    </tr>\n",
       "    <tr>\n",
       "      <th>287</th>\n",
       "      <td>Age(81-100)</td>\n",
       "      <td>Cancer</td>\n",
       "      <td>0.893992</td>\n",
       "    </tr>\n",
       "  </tbody>\n",
       "</table>\n",
       "</div>"
      ],
      "text/plain": [
       "           Feature1             Feature2  Corr_Coef\n",
       "186      Age(41-60)        IschemicHeart   0.909658\n",
       "180      Age(41-60)         Heartfailure   0.908376\n",
       "181      Age(41-60)        KidneyDisease   0.904854\n",
       "184      Age(41-60)           Depression   0.903741\n",
       "187      Age(41-60)         Osteoporasis   0.901695\n",
       "183      Age(41-60)       ObstrPulmonary   0.901632\n",
       "295     Age(81-100)         RenalDisease   0.901625\n",
       "345      Race_White               stroke   0.900817\n",
       "179      Age(41-60)            Alzheimer   0.900430\n",
       "188      Age(41-60)  rheumatoidarthritis   0.899790\n",
       "80   Female_Patient               stroke   0.899024\n",
       "283     Age(81-100)      Claim_Len_Total   0.898891\n",
       "242      Age(61-80)               stroke   0.898750\n",
       "23     Male_Patient               stroke   0.896272\n",
       "287     Age(81-100)               Cancer   0.893992"
      ]
     },
     "execution_count": 77,
     "metadata": {},
     "output_type": "execute_result"
    }
   ],
   "source": [
    "NFraud_CM = NFraud_df.drop('Index', axis = 1).corr().unstack().drop_duplicates().\\\n",
    "to_frame().reset_index().rename(columns = {'level_0' : 'Feature1', 'level_1' : 'Feature2', 0 : 'Corr_Coef'})\n",
    "NFraud_CM.loc[NFraud_CM.Corr_Coef < 0.91].sort_values(ascending = False, by = 'Corr_Coef').head(15)"
   ]
  },
  {
   "cell_type": "code",
   "execution_count": null,
   "metadata": {},
   "outputs": [],
   "source": []
  }
 ],
 "metadata": {
  "kernelspec": {
   "display_name": "Python 3",
   "language": "python",
   "name": "python3"
  },
  "language_info": {
   "codemirror_mode": {
    "name": "ipython",
    "version": 3
   },
   "file_extension": ".py",
   "mimetype": "text/x-python",
   "name": "python",
   "nbconvert_exporter": "python",
   "pygments_lexer": "ipython3",
   "version": "3.7.6"
  }
 },
 "nbformat": 4,
 "nbformat_minor": 4
}
